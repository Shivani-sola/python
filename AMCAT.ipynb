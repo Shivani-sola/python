{
 "cells": [
  {
   "cell_type": "code",
   "execution_count": 2,
   "id": "fd72bca8",
   "metadata": {},
   "outputs": [
    {
     "name": "stderr",
     "output_type": "stream",
     "text": [
      "C:\\Users\\solas\\OneDrive\\Documents\\anaconda3\\lib\\site-packages\\pandas\\core\\computation\\expressions.py:21: UserWarning: Pandas requires version '2.8.4' or newer of 'numexpr' (version '2.8.3' currently installed).\n",
      "  from pandas.core.computation.check import NUMEXPR_INSTALLED\n",
      "C:\\Users\\solas\\OneDrive\\Documents\\anaconda3\\lib\\site-packages\\pandas\\core\\arrays\\masked.py:60: UserWarning: Pandas requires version '1.3.6' or newer of 'bottleneck' (version '1.3.5' currently installed).\n",
      "  from pandas.core import (\n"
     ]
    }
   ],
   "source": [
    "import pandas as pd\n",
    "import numpy as np"
   ]
  },
  {
   "cell_type": "markdown",
   "id": "504a36c9",
   "metadata": {},
   "source": [
    "# Importing Dataset"
   ]
  },
  {
   "cell_type": "code",
   "execution_count": 3,
   "id": "a5f5964b",
   "metadata": {},
   "outputs": [],
   "source": [
    "df = pd.read_csv(r\"C:\\Users\\solas\\Downloads\\data.xlsx - Sheet1.csv\")"
   ]
  },
  {
   "cell_type": "code",
   "execution_count": 4,
   "id": "5b104c53",
   "metadata": {
    "scrolled": true
   },
   "outputs": [
    {
     "data": {
      "text/html": [
       "<div>\n",
       "<style scoped>\n",
       "    .dataframe tbody tr th:only-of-type {\n",
       "        vertical-align: middle;\n",
       "    }\n",
       "\n",
       "    .dataframe tbody tr th {\n",
       "        vertical-align: top;\n",
       "    }\n",
       "\n",
       "    .dataframe thead th {\n",
       "        text-align: right;\n",
       "    }\n",
       "</style>\n",
       "<table border=\"1\" class=\"dataframe\">\n",
       "  <thead>\n",
       "    <tr style=\"text-align: right;\">\n",
       "      <th></th>\n",
       "      <th>Unnamed: 0</th>\n",
       "      <th>ID</th>\n",
       "      <th>Salary</th>\n",
       "      <th>DOJ</th>\n",
       "      <th>DOL</th>\n",
       "      <th>Designation</th>\n",
       "      <th>JobCity</th>\n",
       "      <th>Gender</th>\n",
       "      <th>DOB</th>\n",
       "      <th>10percentage</th>\n",
       "      <th>...</th>\n",
       "      <th>ComputerScience</th>\n",
       "      <th>MechanicalEngg</th>\n",
       "      <th>ElectricalEngg</th>\n",
       "      <th>TelecomEngg</th>\n",
       "      <th>CivilEngg</th>\n",
       "      <th>conscientiousness</th>\n",
       "      <th>agreeableness</th>\n",
       "      <th>extraversion</th>\n",
       "      <th>nueroticism</th>\n",
       "      <th>openess_to_experience</th>\n",
       "    </tr>\n",
       "  </thead>\n",
       "  <tbody>\n",
       "    <tr>\n",
       "      <th>0</th>\n",
       "      <td>train</td>\n",
       "      <td>203097</td>\n",
       "      <td>420000.0</td>\n",
       "      <td>6/1/12 0:00</td>\n",
       "      <td>present</td>\n",
       "      <td>senior quality engineer</td>\n",
       "      <td>Bangalore</td>\n",
       "      <td>f</td>\n",
       "      <td>2/19/90 0:00</td>\n",
       "      <td>84.3</td>\n",
       "      <td>...</td>\n",
       "      <td>-1</td>\n",
       "      <td>-1</td>\n",
       "      <td>-1</td>\n",
       "      <td>-1</td>\n",
       "      <td>-1</td>\n",
       "      <td>0.9737</td>\n",
       "      <td>0.8128</td>\n",
       "      <td>0.5269</td>\n",
       "      <td>1.35490</td>\n",
       "      <td>-0.4455</td>\n",
       "    </tr>\n",
       "    <tr>\n",
       "      <th>1</th>\n",
       "      <td>train</td>\n",
       "      <td>579905</td>\n",
       "      <td>500000.0</td>\n",
       "      <td>9/1/13 0:00</td>\n",
       "      <td>present</td>\n",
       "      <td>assistant manager</td>\n",
       "      <td>Indore</td>\n",
       "      <td>m</td>\n",
       "      <td>10/4/89 0:00</td>\n",
       "      <td>85.4</td>\n",
       "      <td>...</td>\n",
       "      <td>-1</td>\n",
       "      <td>-1</td>\n",
       "      <td>-1</td>\n",
       "      <td>-1</td>\n",
       "      <td>-1</td>\n",
       "      <td>-0.7335</td>\n",
       "      <td>0.3789</td>\n",
       "      <td>1.2396</td>\n",
       "      <td>-0.10760</td>\n",
       "      <td>0.8637</td>\n",
       "    </tr>\n",
       "    <tr>\n",
       "      <th>2</th>\n",
       "      <td>train</td>\n",
       "      <td>810601</td>\n",
       "      <td>325000.0</td>\n",
       "      <td>6/1/14 0:00</td>\n",
       "      <td>present</td>\n",
       "      <td>systems engineer</td>\n",
       "      <td>Chennai</td>\n",
       "      <td>f</td>\n",
       "      <td>8/3/92 0:00</td>\n",
       "      <td>85.0</td>\n",
       "      <td>...</td>\n",
       "      <td>-1</td>\n",
       "      <td>-1</td>\n",
       "      <td>-1</td>\n",
       "      <td>-1</td>\n",
       "      <td>-1</td>\n",
       "      <td>0.2718</td>\n",
       "      <td>1.7109</td>\n",
       "      <td>0.1637</td>\n",
       "      <td>-0.86820</td>\n",
       "      <td>0.6721</td>\n",
       "    </tr>\n",
       "    <tr>\n",
       "      <th>3</th>\n",
       "      <td>train</td>\n",
       "      <td>267447</td>\n",
       "      <td>1100000.0</td>\n",
       "      <td>7/1/11 0:00</td>\n",
       "      <td>present</td>\n",
       "      <td>senior software engineer</td>\n",
       "      <td>Gurgaon</td>\n",
       "      <td>m</td>\n",
       "      <td>12/5/89 0:00</td>\n",
       "      <td>85.6</td>\n",
       "      <td>...</td>\n",
       "      <td>-1</td>\n",
       "      <td>-1</td>\n",
       "      <td>-1</td>\n",
       "      <td>-1</td>\n",
       "      <td>-1</td>\n",
       "      <td>0.0464</td>\n",
       "      <td>0.3448</td>\n",
       "      <td>-0.3440</td>\n",
       "      <td>-0.40780</td>\n",
       "      <td>-0.9194</td>\n",
       "    </tr>\n",
       "    <tr>\n",
       "      <th>4</th>\n",
       "      <td>train</td>\n",
       "      <td>343523</td>\n",
       "      <td>200000.0</td>\n",
       "      <td>3/1/14 0:00</td>\n",
       "      <td>3/1/15 0:00</td>\n",
       "      <td>get</td>\n",
       "      <td>Manesar</td>\n",
       "      <td>m</td>\n",
       "      <td>2/27/91 0:00</td>\n",
       "      <td>78.0</td>\n",
       "      <td>...</td>\n",
       "      <td>-1</td>\n",
       "      <td>-1</td>\n",
       "      <td>-1</td>\n",
       "      <td>-1</td>\n",
       "      <td>-1</td>\n",
       "      <td>-0.8810</td>\n",
       "      <td>-0.2793</td>\n",
       "      <td>-1.0697</td>\n",
       "      <td>0.09163</td>\n",
       "      <td>-0.1295</td>\n",
       "    </tr>\n",
       "  </tbody>\n",
       "</table>\n",
       "<p>5 rows × 39 columns</p>\n",
       "</div>"
      ],
      "text/plain": [
       "  Unnamed: 0      ID     Salary          DOJ          DOL  \\\n",
       "0      train  203097   420000.0  6/1/12 0:00      present   \n",
       "1      train  579905   500000.0  9/1/13 0:00      present   \n",
       "2      train  810601   325000.0  6/1/14 0:00      present   \n",
       "3      train  267447  1100000.0  7/1/11 0:00      present   \n",
       "4      train  343523   200000.0  3/1/14 0:00  3/1/15 0:00   \n",
       "\n",
       "                Designation    JobCity Gender           DOB  10percentage  \\\n",
       "0   senior quality engineer  Bangalore      f  2/19/90 0:00          84.3   \n",
       "1         assistant manager     Indore      m  10/4/89 0:00          85.4   \n",
       "2          systems engineer    Chennai      f   8/3/92 0:00          85.0   \n",
       "3  senior software engineer    Gurgaon      m  12/5/89 0:00          85.6   \n",
       "4                       get    Manesar      m  2/27/91 0:00          78.0   \n",
       "\n",
       "   ... ComputerScience  MechanicalEngg  ElectricalEngg TelecomEngg  CivilEngg  \\\n",
       "0  ...              -1              -1              -1          -1         -1   \n",
       "1  ...              -1              -1              -1          -1         -1   \n",
       "2  ...              -1              -1              -1          -1         -1   \n",
       "3  ...              -1              -1              -1          -1         -1   \n",
       "4  ...              -1              -1              -1          -1         -1   \n",
       "\n",
       "   conscientiousness agreeableness extraversion  nueroticism  \\\n",
       "0             0.9737        0.8128       0.5269      1.35490   \n",
       "1            -0.7335        0.3789       1.2396     -0.10760   \n",
       "2             0.2718        1.7109       0.1637     -0.86820   \n",
       "3             0.0464        0.3448      -0.3440     -0.40780   \n",
       "4            -0.8810       -0.2793      -1.0697      0.09163   \n",
       "\n",
       "   openess_to_experience  \n",
       "0                -0.4455  \n",
       "1                 0.8637  \n",
       "2                 0.6721  \n",
       "3                -0.9194  \n",
       "4                -0.1295  \n",
       "\n",
       "[5 rows x 39 columns]"
      ]
     },
     "execution_count": 4,
     "metadata": {},
     "output_type": "execute_result"
    }
   ],
   "source": [
    "df.head()"
   ]
  },
  {
   "cell_type": "code",
   "execution_count": 5,
   "id": "0f2da90a",
   "metadata": {},
   "outputs": [],
   "source": [
    "df.drop('Unnamed: 0', axis=1, inplace=True)"
   ]
  },
  {
   "cell_type": "markdown",
   "id": "567b9854",
   "metadata": {},
   "source": [
    "# Exploratory Data Analysis"
   ]
  },
  {
   "cell_type": "code",
   "execution_count": 6,
   "id": "2ffb6e05",
   "metadata": {},
   "outputs": [
    {
     "data": {
      "text/plain": [
       "ID                         int64\n",
       "Salary                   float64\n",
       "DOJ                       object\n",
       "DOL                       object\n",
       "Designation               object\n",
       "JobCity                   object\n",
       "Gender                    object\n",
       "DOB                       object\n",
       "10percentage             float64\n",
       "10board                   object\n",
       "12graduation               int64\n",
       "12percentage             float64\n",
       "12board                   object\n",
       "CollegeID                  int64\n",
       "CollegeTier                int64\n",
       "Degree                    object\n",
       "Specialization            object\n",
       "collegeGPA               float64\n",
       "CollegeCityID              int64\n",
       "CollegeCityTier            int64\n",
       "CollegeState              object\n",
       "GraduationYear             int64\n",
       "English                    int64\n",
       "Logical                    int64\n",
       "Quant                      int64\n",
       "Domain                   float64\n",
       "ComputerProgramming        int64\n",
       "ElectronicsAndSemicon      int64\n",
       "ComputerScience            int64\n",
       "MechanicalEngg             int64\n",
       "ElectricalEngg             int64\n",
       "TelecomEngg                int64\n",
       "CivilEngg                  int64\n",
       "conscientiousness        float64\n",
       "agreeableness            float64\n",
       "extraversion             float64\n",
       "nueroticism              float64\n",
       "openess_to_experience    float64\n",
       "dtype: object"
      ]
     },
     "execution_count": 6,
     "metadata": {},
     "output_type": "execute_result"
    }
   ],
   "source": [
    "df.dtypes"
   ]
  },
  {
   "cell_type": "code",
   "execution_count": 7,
   "id": "536b7ff9",
   "metadata": {},
   "outputs": [
    {
     "data": {
      "text/html": [
       "<div>\n",
       "<style scoped>\n",
       "    .dataframe tbody tr th:only-of-type {\n",
       "        vertical-align: middle;\n",
       "    }\n",
       "\n",
       "    .dataframe tbody tr th {\n",
       "        vertical-align: top;\n",
       "    }\n",
       "\n",
       "    .dataframe thead th {\n",
       "        text-align: right;\n",
       "    }\n",
       "</style>\n",
       "<table border=\"1\" class=\"dataframe\">\n",
       "  <thead>\n",
       "    <tr style=\"text-align: right;\">\n",
       "      <th></th>\n",
       "      <th>ID</th>\n",
       "      <th>Salary</th>\n",
       "      <th>DOJ</th>\n",
       "      <th>DOL</th>\n",
       "      <th>Designation</th>\n",
       "      <th>JobCity</th>\n",
       "      <th>Gender</th>\n",
       "      <th>DOB</th>\n",
       "      <th>10percentage</th>\n",
       "      <th>10board</th>\n",
       "      <th>...</th>\n",
       "      <th>ComputerScience</th>\n",
       "      <th>MechanicalEngg</th>\n",
       "      <th>ElectricalEngg</th>\n",
       "      <th>TelecomEngg</th>\n",
       "      <th>CivilEngg</th>\n",
       "      <th>conscientiousness</th>\n",
       "      <th>agreeableness</th>\n",
       "      <th>extraversion</th>\n",
       "      <th>nueroticism</th>\n",
       "      <th>openess_to_experience</th>\n",
       "    </tr>\n",
       "  </thead>\n",
       "  <tbody>\n",
       "    <tr>\n",
       "      <th>3993</th>\n",
       "      <td>47916</td>\n",
       "      <td>280000.0</td>\n",
       "      <td>10/1/11 0:00</td>\n",
       "      <td>10/1/12 0:00</td>\n",
       "      <td>software engineer</td>\n",
       "      <td>New Delhi</td>\n",
       "      <td>m</td>\n",
       "      <td>4/15/87 0:00</td>\n",
       "      <td>52.09</td>\n",
       "      <td>cbse</td>\n",
       "      <td>...</td>\n",
       "      <td>-1</td>\n",
       "      <td>-1</td>\n",
       "      <td>-1</td>\n",
       "      <td>-1</td>\n",
       "      <td>-1</td>\n",
       "      <td>-0.1082</td>\n",
       "      <td>0.3448</td>\n",
       "      <td>0.2366</td>\n",
       "      <td>0.64980</td>\n",
       "      <td>-0.9194</td>\n",
       "    </tr>\n",
       "    <tr>\n",
       "      <th>3994</th>\n",
       "      <td>752781</td>\n",
       "      <td>100000.0</td>\n",
       "      <td>7/1/13 0:00</td>\n",
       "      <td>7/1/13 0:00</td>\n",
       "      <td>technical writer</td>\n",
       "      <td>Hyderabad</td>\n",
       "      <td>f</td>\n",
       "      <td>8/27/92 0:00</td>\n",
       "      <td>90.00</td>\n",
       "      <td>state board</td>\n",
       "      <td>...</td>\n",
       "      <td>-1</td>\n",
       "      <td>-1</td>\n",
       "      <td>-1</td>\n",
       "      <td>-1</td>\n",
       "      <td>-1</td>\n",
       "      <td>-0.3027</td>\n",
       "      <td>0.8784</td>\n",
       "      <td>0.9322</td>\n",
       "      <td>0.77980</td>\n",
       "      <td>-0.0943</td>\n",
       "    </tr>\n",
       "    <tr>\n",
       "      <th>3995</th>\n",
       "      <td>355888</td>\n",
       "      <td>320000.0</td>\n",
       "      <td>7/1/13 0:00</td>\n",
       "      <td>present</td>\n",
       "      <td>associate software engineer</td>\n",
       "      <td>Bangalore</td>\n",
       "      <td>m</td>\n",
       "      <td>7/3/91 0:00</td>\n",
       "      <td>81.86</td>\n",
       "      <td>bse,odisha</td>\n",
       "      <td>...</td>\n",
       "      <td>-1</td>\n",
       "      <td>-1</td>\n",
       "      <td>-1</td>\n",
       "      <td>-1</td>\n",
       "      <td>-1</td>\n",
       "      <td>-1.5765</td>\n",
       "      <td>-1.5273</td>\n",
       "      <td>-1.5051</td>\n",
       "      <td>-1.31840</td>\n",
       "      <td>-0.7615</td>\n",
       "    </tr>\n",
       "    <tr>\n",
       "      <th>3996</th>\n",
       "      <td>947111</td>\n",
       "      <td>200000.0</td>\n",
       "      <td>7/1/14 0:00</td>\n",
       "      <td>1/1/15 0:00</td>\n",
       "      <td>software developer</td>\n",
       "      <td>Asifabadbanglore</td>\n",
       "      <td>f</td>\n",
       "      <td>3/20/92 0:00</td>\n",
       "      <td>78.72</td>\n",
       "      <td>state board</td>\n",
       "      <td>...</td>\n",
       "      <td>438</td>\n",
       "      <td>-1</td>\n",
       "      <td>-1</td>\n",
       "      <td>-1</td>\n",
       "      <td>-1</td>\n",
       "      <td>-0.1590</td>\n",
       "      <td>0.0459</td>\n",
       "      <td>-0.4511</td>\n",
       "      <td>-0.36120</td>\n",
       "      <td>-0.0943</td>\n",
       "    </tr>\n",
       "    <tr>\n",
       "      <th>3997</th>\n",
       "      <td>324966</td>\n",
       "      <td>400000.0</td>\n",
       "      <td>2/1/13 0:00</td>\n",
       "      <td>present</td>\n",
       "      <td>senior systems engineer</td>\n",
       "      <td>Chennai</td>\n",
       "      <td>f</td>\n",
       "      <td>2/26/91 0:00</td>\n",
       "      <td>70.60</td>\n",
       "      <td>cbse</td>\n",
       "      <td>...</td>\n",
       "      <td>-1</td>\n",
       "      <td>-1</td>\n",
       "      <td>-1</td>\n",
       "      <td>-1</td>\n",
       "      <td>-1</td>\n",
       "      <td>-1.1128</td>\n",
       "      <td>-0.2793</td>\n",
       "      <td>-0.6343</td>\n",
       "      <td>1.32553</td>\n",
       "      <td>-0.6035</td>\n",
       "    </tr>\n",
       "  </tbody>\n",
       "</table>\n",
       "<p>5 rows × 38 columns</p>\n",
       "</div>"
      ],
      "text/plain": [
       "          ID    Salary           DOJ           DOL  \\\n",
       "3993   47916  280000.0  10/1/11 0:00  10/1/12 0:00   \n",
       "3994  752781  100000.0   7/1/13 0:00   7/1/13 0:00   \n",
       "3995  355888  320000.0   7/1/13 0:00       present   \n",
       "3996  947111  200000.0   7/1/14 0:00   1/1/15 0:00   \n",
       "3997  324966  400000.0   2/1/13 0:00       present   \n",
       "\n",
       "                      Designation           JobCity Gender           DOB  \\\n",
       "3993            software engineer        New Delhi       m  4/15/87 0:00   \n",
       "3994             technical writer         Hyderabad      f  8/27/92 0:00   \n",
       "3995  associate software engineer         Bangalore      m   7/3/91 0:00   \n",
       "3996           software developer  Asifabadbanglore      f  3/20/92 0:00   \n",
       "3997      senior systems engineer           Chennai      f  2/26/91 0:00   \n",
       "\n",
       "      10percentage      10board  ...  ComputerScience  MechanicalEngg  \\\n",
       "3993         52.09         cbse  ...               -1              -1   \n",
       "3994         90.00  state board  ...               -1              -1   \n",
       "3995         81.86   bse,odisha  ...               -1              -1   \n",
       "3996         78.72  state board  ...              438              -1   \n",
       "3997         70.60         cbse  ...               -1              -1   \n",
       "\n",
       "     ElectricalEngg  TelecomEngg  CivilEngg conscientiousness agreeableness  \\\n",
       "3993             -1           -1         -1           -0.1082        0.3448   \n",
       "3994             -1           -1         -1           -0.3027        0.8784   \n",
       "3995             -1           -1         -1           -1.5765       -1.5273   \n",
       "3996             -1           -1         -1           -0.1590        0.0459   \n",
       "3997             -1           -1         -1           -1.1128       -0.2793   \n",
       "\n",
       "      extraversion  nueroticism  openess_to_experience  \n",
       "3993        0.2366      0.64980                -0.9194  \n",
       "3994        0.9322      0.77980                -0.0943  \n",
       "3995       -1.5051     -1.31840                -0.7615  \n",
       "3996       -0.4511     -0.36120                -0.0943  \n",
       "3997       -0.6343      1.32553                -0.6035  \n",
       "\n",
       "[5 rows x 38 columns]"
      ]
     },
     "execution_count": 7,
     "metadata": {},
     "output_type": "execute_result"
    }
   ],
   "source": [
    "df.tail()"
   ]
  },
  {
   "cell_type": "code",
   "execution_count": 8,
   "id": "0f0c025d",
   "metadata": {},
   "outputs": [],
   "source": [
    "# Strip any time information\n",
    "df['DOJ'] = df['DOJ'].str.split().str[0]\n",
    "\n",
    "# Convert 'DOJ' column to the desired date format (YYYY-MM-DD)\n",
    "df['DOJ'] = pd.to_datetime(df['DOJ'], format=\"%m/%d/%y\").dt.strftime(\"%Y-%m-%d\")"
   ]
  },
  {
   "cell_type": "code",
   "execution_count": 9,
   "id": "fa47f715",
   "metadata": {},
   "outputs": [
    {
     "data": {
      "text/plain": [
       "0       2012-06-01\n",
       "1       2013-09-01\n",
       "2       2014-06-01\n",
       "3       2011-07-01\n",
       "4       2014-03-01\n",
       "           ...    \n",
       "3993    2011-10-01\n",
       "3994    2013-07-01\n",
       "3995    2013-07-01\n",
       "3996    2014-07-01\n",
       "3997    2013-02-01\n",
       "Name: DOJ, Length: 3998, dtype: object"
      ]
     },
     "execution_count": 9,
     "metadata": {},
     "output_type": "execute_result"
    }
   ],
   "source": [
    "df['DOJ']"
   ]
  },
  {
   "cell_type": "code",
   "execution_count": 10,
   "id": "71c68eb2",
   "metadata": {},
   "outputs": [],
   "source": [
    "df['DOB'] = df['DOB'].str.split().str[0]\n",
    "\n",
    "# Convert 'DOJ' column to the desired date format (YYYY-MM-DD)\n",
    "df['DOB'] = pd.to_datetime(df['DOB'], format=\"%m/%d/%y\").dt.strftime(\"%Y-%m-%d\")"
   ]
  },
  {
   "cell_type": "code",
   "execution_count": 11,
   "id": "9e9ad27b",
   "metadata": {},
   "outputs": [
    {
     "data": {
      "text/plain": [
       "0       1990-02-19\n",
       "1       1989-10-04\n",
       "2       1992-08-03\n",
       "3       1989-12-05\n",
       "4       1991-02-27\n",
       "           ...    \n",
       "3993    1987-04-15\n",
       "3994    1992-08-27\n",
       "3995    1991-07-03\n",
       "3996    1992-03-20\n",
       "3997    1991-02-26\n",
       "Name: DOB, Length: 3998, dtype: object"
      ]
     },
     "execution_count": 11,
     "metadata": {},
     "output_type": "execute_result"
    }
   ],
   "source": [
    "df['DOB']"
   ]
  },
  {
   "cell_type": "code",
   "execution_count": 12,
   "id": "79b10357",
   "metadata": {},
   "outputs": [
    {
     "data": {
      "text/plain": [
       "ID                         int64\n",
       "Salary                   float64\n",
       "DOJ                       object\n",
       "DOL                       object\n",
       "Designation               object\n",
       "JobCity                   object\n",
       "Gender                    object\n",
       "DOB                       object\n",
       "10percentage             float64\n",
       "10board                   object\n",
       "12graduation               int64\n",
       "12percentage             float64\n",
       "12board                   object\n",
       "CollegeID                  int64\n",
       "CollegeTier                int64\n",
       "Degree                    object\n",
       "Specialization            object\n",
       "collegeGPA               float64\n",
       "CollegeCityID              int64\n",
       "CollegeCityTier            int64\n",
       "CollegeState              object\n",
       "GraduationYear             int64\n",
       "English                    int64\n",
       "Logical                    int64\n",
       "Quant                      int64\n",
       "Domain                   float64\n",
       "ComputerProgramming        int64\n",
       "ElectronicsAndSemicon      int64\n",
       "ComputerScience            int64\n",
       "MechanicalEngg             int64\n",
       "ElectricalEngg             int64\n",
       "TelecomEngg                int64\n",
       "CivilEngg                  int64\n",
       "conscientiousness        float64\n",
       "agreeableness            float64\n",
       "extraversion             float64\n",
       "nueroticism              float64\n",
       "openess_to_experience    float64\n",
       "dtype: object"
      ]
     },
     "execution_count": 12,
     "metadata": {},
     "output_type": "execute_result"
    }
   ],
   "source": [
    "df.dtypes"
   ]
  },
  {
   "cell_type": "code",
   "execution_count": 13,
   "id": "1904d9cf",
   "metadata": {},
   "outputs": [
    {
     "data": {
      "text/plain": [
       "<bound method DataFrame.duplicated of           ID     Salary         DOJ           DOL  \\\n",
       "0     203097   420000.0  2012-06-01       present   \n",
       "1     579905   500000.0  2013-09-01       present   \n",
       "2     810601   325000.0  2014-06-01       present   \n",
       "3     267447  1100000.0  2011-07-01       present   \n",
       "4     343523   200000.0  2014-03-01   3/1/15 0:00   \n",
       "...      ...        ...         ...           ...   \n",
       "3993   47916   280000.0  2011-10-01  10/1/12 0:00   \n",
       "3994  752781   100000.0  2013-07-01   7/1/13 0:00   \n",
       "3995  355888   320000.0  2013-07-01       present   \n",
       "3996  947111   200000.0  2014-07-01   1/1/15 0:00   \n",
       "3997  324966   400000.0  2013-02-01       present   \n",
       "\n",
       "                      Designation           JobCity Gender         DOB  \\\n",
       "0         senior quality engineer         Bangalore      f  1990-02-19   \n",
       "1               assistant manager            Indore      m  1989-10-04   \n",
       "2                systems engineer           Chennai      f  1992-08-03   \n",
       "3        senior software engineer           Gurgaon      m  1989-12-05   \n",
       "4                             get           Manesar      m  1991-02-27   \n",
       "...                           ...               ...    ...         ...   \n",
       "3993            software engineer        New Delhi       m  1987-04-15   \n",
       "3994             technical writer         Hyderabad      f  1992-08-27   \n",
       "3995  associate software engineer         Bangalore      m  1991-07-03   \n",
       "3996           software developer  Asifabadbanglore      f  1992-03-20   \n",
       "3997      senior systems engineer           Chennai      f  1991-02-26   \n",
       "\n",
       "      10percentage                         10board  ...  ComputerScience  \\\n",
       "0            84.30  board ofsecondary education,ap  ...               -1   \n",
       "1            85.40                            cbse  ...               -1   \n",
       "2            85.00                            cbse  ...               -1   \n",
       "3            85.60                            cbse  ...               -1   \n",
       "4            78.00                            cbse  ...               -1   \n",
       "...            ...                             ...  ...              ...   \n",
       "3993         52.09                            cbse  ...               -1   \n",
       "3994         90.00                     state board  ...               -1   \n",
       "3995         81.86                      bse,odisha  ...               -1   \n",
       "3996         78.72                     state board  ...              438   \n",
       "3997         70.60                            cbse  ...               -1   \n",
       "\n",
       "      MechanicalEngg ElectricalEngg  TelecomEngg  CivilEngg conscientiousness  \\\n",
       "0                 -1             -1           -1         -1            0.9737   \n",
       "1                 -1             -1           -1         -1           -0.7335   \n",
       "2                 -1             -1           -1         -1            0.2718   \n",
       "3                 -1             -1           -1         -1            0.0464   \n",
       "4                 -1             -1           -1         -1           -0.8810   \n",
       "...              ...            ...          ...        ...               ...   \n",
       "3993              -1             -1           -1         -1           -0.1082   \n",
       "3994              -1             -1           -1         -1           -0.3027   \n",
       "3995              -1             -1           -1         -1           -1.5765   \n",
       "3996              -1             -1           -1         -1           -0.1590   \n",
       "3997              -1             -1           -1         -1           -1.1128   \n",
       "\n",
       "     agreeableness  extraversion  nueroticism  openess_to_experience  \n",
       "0           0.8128        0.5269      1.35490                -0.4455  \n",
       "1           0.3789        1.2396     -0.10760                 0.8637  \n",
       "2           1.7109        0.1637     -0.86820                 0.6721  \n",
       "3           0.3448       -0.3440     -0.40780                -0.9194  \n",
       "4          -0.2793       -1.0697      0.09163                -0.1295  \n",
       "...            ...           ...          ...                    ...  \n",
       "3993        0.3448        0.2366      0.64980                -0.9194  \n",
       "3994        0.8784        0.9322      0.77980                -0.0943  \n",
       "3995       -1.5273       -1.5051     -1.31840                -0.7615  \n",
       "3996        0.0459       -0.4511     -0.36120                -0.0943  \n",
       "3997       -0.2793       -0.6343      1.32553                -0.6035  \n",
       "\n",
       "[3998 rows x 38 columns]>"
      ]
     },
     "execution_count": 13,
     "metadata": {},
     "output_type": "execute_result"
    }
   ],
   "source": [
    "df.duplicated"
   ]
  },
  {
   "cell_type": "code",
   "execution_count": 14,
   "id": "8918d207",
   "metadata": {},
   "outputs": [
    {
     "data": {
      "text/plain": [
       "ID                       0\n",
       "Salary                   0\n",
       "DOJ                      0\n",
       "DOL                      0\n",
       "Designation              0\n",
       "JobCity                  0\n",
       "Gender                   0\n",
       "DOB                      0\n",
       "10percentage             0\n",
       "10board                  0\n",
       "12graduation             0\n",
       "12percentage             0\n",
       "12board                  0\n",
       "CollegeID                0\n",
       "CollegeTier              0\n",
       "Degree                   0\n",
       "Specialization           0\n",
       "collegeGPA               0\n",
       "CollegeCityID            0\n",
       "CollegeCityTier          0\n",
       "CollegeState             0\n",
       "GraduationYear           0\n",
       "English                  0\n",
       "Logical                  0\n",
       "Quant                    0\n",
       "Domain                   0\n",
       "ComputerProgramming      0\n",
       "ElectronicsAndSemicon    0\n",
       "ComputerScience          0\n",
       "MechanicalEngg           0\n",
       "ElectricalEngg           0\n",
       "TelecomEngg              0\n",
       "CivilEngg                0\n",
       "conscientiousness        0\n",
       "agreeableness            0\n",
       "extraversion             0\n",
       "nueroticism              0\n",
       "openess_to_experience    0\n",
       "dtype: int64"
      ]
     },
     "execution_count": 14,
     "metadata": {},
     "output_type": "execute_result"
    }
   ],
   "source": [
    "df.isnull().sum()"
   ]
  },
  {
   "cell_type": "code",
   "execution_count": 15,
   "id": "9ca0e7f1",
   "metadata": {},
   "outputs": [
    {
     "data": {
      "text/plain": [
       "(3998, 38)"
      ]
     },
     "execution_count": 15,
     "metadata": {},
     "output_type": "execute_result"
    }
   ],
   "source": [
    "df.shape"
   ]
  },
  {
   "cell_type": "markdown",
   "id": "22f1e014",
   "metadata": {},
   "source": [
    "# Univariate Analysis"
   ]
  },
  {
   "cell_type": "markdown",
   "id": "9b3080f6",
   "metadata": {},
   "source": [
    "#### Non-vizualization"
   ]
  },
  {
   "cell_type": "code",
   "execution_count": 16,
   "id": "991251e5",
   "metadata": {},
   "outputs": [],
   "source": [
    "unique_combinations = df[['Designation', 'JobCity', 'Gender','10board']].drop_duplicates()"
   ]
  },
  {
   "cell_type": "code",
   "execution_count": 17,
   "id": "a8548a1b",
   "metadata": {},
   "outputs": [
    {
     "data": {
      "text/html": [
       "<div>\n",
       "<style scoped>\n",
       "    .dataframe tbody tr th:only-of-type {\n",
       "        vertical-align: middle;\n",
       "    }\n",
       "\n",
       "    .dataframe tbody tr th {\n",
       "        vertical-align: top;\n",
       "    }\n",
       "\n",
       "    .dataframe thead th {\n",
       "        text-align: right;\n",
       "    }\n",
       "</style>\n",
       "<table border=\"1\" class=\"dataframe\">\n",
       "  <thead>\n",
       "    <tr style=\"text-align: right;\">\n",
       "      <th></th>\n",
       "      <th>Designation</th>\n",
       "      <th>JobCity</th>\n",
       "      <th>Gender</th>\n",
       "      <th>10board</th>\n",
       "    </tr>\n",
       "  </thead>\n",
       "  <tbody>\n",
       "    <tr>\n",
       "      <th>0</th>\n",
       "      <td>senior quality engineer</td>\n",
       "      <td>Bangalore</td>\n",
       "      <td>f</td>\n",
       "      <td>board ofsecondary education,ap</td>\n",
       "    </tr>\n",
       "    <tr>\n",
       "      <th>1</th>\n",
       "      <td>assistant manager</td>\n",
       "      <td>Indore</td>\n",
       "      <td>m</td>\n",
       "      <td>cbse</td>\n",
       "    </tr>\n",
       "    <tr>\n",
       "      <th>2</th>\n",
       "      <td>systems engineer</td>\n",
       "      <td>Chennai</td>\n",
       "      <td>f</td>\n",
       "      <td>cbse</td>\n",
       "    </tr>\n",
       "    <tr>\n",
       "      <th>3</th>\n",
       "      <td>senior software engineer</td>\n",
       "      <td>Gurgaon</td>\n",
       "      <td>m</td>\n",
       "      <td>cbse</td>\n",
       "    </tr>\n",
       "    <tr>\n",
       "      <th>4</th>\n",
       "      <td>get</td>\n",
       "      <td>Manesar</td>\n",
       "      <td>m</td>\n",
       "      <td>cbse</td>\n",
       "    </tr>\n",
       "    <tr>\n",
       "      <th>...</th>\n",
       "      <td>...</td>\n",
       "      <td>...</td>\n",
       "      <td>...</td>\n",
       "      <td>...</td>\n",
       "    </tr>\n",
       "    <tr>\n",
       "      <th>3993</th>\n",
       "      <td>software engineer</td>\n",
       "      <td>New Delhi</td>\n",
       "      <td>m</td>\n",
       "      <td>cbse</td>\n",
       "    </tr>\n",
       "    <tr>\n",
       "      <th>3994</th>\n",
       "      <td>technical writer</td>\n",
       "      <td>Hyderabad</td>\n",
       "      <td>f</td>\n",
       "      <td>state board</td>\n",
       "    </tr>\n",
       "    <tr>\n",
       "      <th>3995</th>\n",
       "      <td>associate software engineer</td>\n",
       "      <td>Bangalore</td>\n",
       "      <td>m</td>\n",
       "      <td>bse,odisha</td>\n",
       "    </tr>\n",
       "    <tr>\n",
       "      <th>3996</th>\n",
       "      <td>software developer</td>\n",
       "      <td>Asifabadbanglore</td>\n",
       "      <td>f</td>\n",
       "      <td>state board</td>\n",
       "    </tr>\n",
       "    <tr>\n",
       "      <th>3997</th>\n",
       "      <td>senior systems engineer</td>\n",
       "      <td>Chennai</td>\n",
       "      <td>f</td>\n",
       "      <td>cbse</td>\n",
       "    </tr>\n",
       "  </tbody>\n",
       "</table>\n",
       "<p>3004 rows × 4 columns</p>\n",
       "</div>"
      ],
      "text/plain": [
       "                      Designation           JobCity Gender  \\\n",
       "0         senior quality engineer         Bangalore      f   \n",
       "1               assistant manager            Indore      m   \n",
       "2                systems engineer           Chennai      f   \n",
       "3        senior software engineer           Gurgaon      m   \n",
       "4                             get           Manesar      m   \n",
       "...                           ...               ...    ...   \n",
       "3993            software engineer        New Delhi       m   \n",
       "3994             technical writer         Hyderabad      f   \n",
       "3995  associate software engineer         Bangalore      m   \n",
       "3996           software developer  Asifabadbanglore      f   \n",
       "3997      senior systems engineer           Chennai      f   \n",
       "\n",
       "                             10board  \n",
       "0     board ofsecondary education,ap  \n",
       "1                               cbse  \n",
       "2                               cbse  \n",
       "3                               cbse  \n",
       "4                               cbse  \n",
       "...                              ...  \n",
       "3993                            cbse  \n",
       "3994                     state board  \n",
       "3995                      bse,odisha  \n",
       "3996                     state board  \n",
       "3997                            cbse  \n",
       "\n",
       "[3004 rows x 4 columns]"
      ]
     },
     "execution_count": 17,
     "metadata": {},
     "output_type": "execute_result"
    }
   ],
   "source": [
    "unique_combinations"
   ]
  },
  {
   "cell_type": "code",
   "execution_count": 18,
   "id": "46c48337",
   "metadata": {},
   "outputs": [
    {
     "data": {
      "text/plain": [
       "Designation    419\n",
       "JobCity        339\n",
       "Gender           2\n",
       "10board        275\n",
       "dtype: int64"
      ]
     },
     "execution_count": 18,
     "metadata": {},
     "output_type": "execute_result"
    }
   ],
   "source": [
    "unique_combinations.nunique()"
   ]
  },
  {
   "cell_type": "code",
   "execution_count": 19,
   "id": "d40581da",
   "metadata": {
    "scrolled": false
   },
   "outputs": [
    {
     "data": {
      "text/plain": [
       "array(['senior quality engineer', 'assistant manager', 'systems engineer',\n",
       "       'senior software engineer', 'get', 'system engineer',\n",
       "       'java software engineer', 'mechanical engineer',\n",
       "       'electrical engineer', 'project engineer', 'senior php developer',\n",
       "       'senior systems engineer', 'quality assurance engineer',\n",
       "       'qa analyst', 'network engineer', 'product development engineer',\n",
       "       'associate software developer', 'data entry operator',\n",
       "       'software engineer', 'developer', 'electrical project engineer',\n",
       "       'programmer analyst', 'systems analyst', 'ase',\n",
       "       'telecommunication engineer', 'application developer',\n",
       "       'ios developer', 'executive assistant', 'online marketing manager',\n",
       "       'documentation specialist', 'associate software engineer',\n",
       "       'management trainee', 'site manager', 'software developer',\n",
       "       '.net developer', 'production engineer', 'jr. software engineer',\n",
       "       'trainee software developer', 'ui developer',\n",
       "       'assistant system engineer', 'android developer',\n",
       "       'customer service', 'test engineer', 'java developer', 'engineer',\n",
       "       'recruitment coordinator', 'technical support engineer',\n",
       "       'data analyst', 'assistant software engineer', 'faculty',\n",
       "       'entry level management trainee',\n",
       "       'customer service representative', 'software test engineer',\n",
       "       'firmware engineer', 'php developer', 'research associate',\n",
       "       'research analyst', 'quality engineer', 'programmer',\n",
       "       'technical support executive', 'business analyst', 'web developer',\n",
       "       'application engineer', 'project coordinator', 'engineer trainee',\n",
       "       'sap consultant', 'quality analyst', 'marketing coordinator',\n",
       "       'system administrator', 'senior engineer',\n",
       "       'business development managerde', 'network administrator',\n",
       "       'technical support specialist', 'business development executive',\n",
       "       'junior software engineer', 'asp.net developer',\n",
       "       'graduate engineer trainee', 'field engineer',\n",
       "       'assistant professor', 'trainee software engineer',\n",
       "       'senior software developer',\n",
       "       'quality assurance automation engineer', 'design engineer',\n",
       "       'telecom engineer', 'quality control engineer',\n",
       "       'hardware engineer', 'hr recruiter', 'sales associate',\n",
       "       'junior engineer', 'associate engineer', 'maintenance engineer',\n",
       "       'sales engineer', 'human resources associate',\n",
       "       'mobile application developer',\n",
       "       'electronic field service engineer', 'process associate',\n",
       "       'field service engineer', 'it support specialist',\n",
       "       'software development engineer', 'business process analyst',\n",
       "       'operation engineer', 'electrical designer', 'marketing assistant',\n",
       "       'sales executive', 'admin assistant', 'senior java developer',\n",
       "       'account executive', 'oracle dba', 'rf engineer',\n",
       "       'embedded software engineer', 'programmer analyst trainee',\n",
       "       'technical engineer', 'operations executive', 'trainee engineer',\n",
       "       'recruiter', 'lecturer', '.net web developer',\n",
       "       'marketing executive', 'operations assistant', 'associate manager',\n",
       "       'electrical design engineer', 'systems administrator',\n",
       "       'client services associate', 'it analyst', 'senior developer',\n",
       "       'cad designer', 'business technology analyst', 'asst. manager',\n",
       "       'service engineer', 'executive recruiter', 'planning engineer',\n",
       "       'associate technical operations', 'web designer',\n",
       "       'software architect', 'software quality assurance tester',\n",
       "       'seo trainee', 'process engineer',\n",
       "       'software quality assurance analyst', 'designer',\n",
       "       'business systems consultant', 'business development manager',\n",
       "       'junior research fellow', 'technical recruiter',\n",
       "       'operations analyst', 'quality assurance test engineer',\n",
       "       'linux systems administrator', 'software trainee',\n",
       "       'entry level sales and marketing', 'electrical field engineer',\n",
       "       'windows systems administrator', 'junior software developer',\n",
       "       'python developer', 'web application developer',\n",
       "       'assistant systems engineer', 'javascript developer',\n",
       "       'operation executive', 'performance engineer', 'technical writer',\n",
       "       'operations engineer and jetty handling', 'lead engineer',\n",
       "       'portfolio analyst', 'associate system engineer',\n",
       "       'mechanical design engineer', 'product engineer',\n",
       "       'network security engineer', 'operations manager',\n",
       "       'technical lead', 'operations', 'quality assurance tester',\n",
       "       'automation engineer', 'data scientist', 'quality associate',\n",
       "       'manual tester', 'sr. engineer', 'embedded engineer',\n",
       "       'service and sales engineer', 'telecom support engineer',\n",
       "       'engineer- customer support', 'cloud engineer', 'branch manager',\n",
       "       'business analyst consultant', 'technology lead',\n",
       "       'software trainee engineer', 'dcs engineer', 'junior manager',\n",
       "       'ux designer', 'clerical', 'hr generalist',\n",
       "       'database administrator', 'senior design engineer', 'seo',\n",
       "       'assistant engineer', 'marketing analyst', 'it executive',\n",
       "       'salesforce developer', 'software tester', 'sql dba',\n",
       "       'junior engineer product support', 'manager',\n",
       "       'senior business analyst', 'c# developer',\n",
       "       'implementation engineer', 'executive hr', 'executive engineer',\n",
       "       'sharepoint developer', 'system analyst',\n",
       "       'sales management trainee', 'senior project engineer',\n",
       "       'it recruiter', 'software engineer analyst',\n",
       "       'desktop support technician', 'continuous improvement engineer',\n",
       "       'process advisor', 'etl developer', 'sales and service engineer',\n",
       "       'project manager', 'training specialist', 'product manager',\n",
       "       'staffing recruiter', 'assistant programmer', 'quality controller',\n",
       "       'mis executive', 'game developer', 'digital marketing specialist',\n",
       "       'principal software engineer', 'software devloper',\n",
       "       'senior mechanical engineer', 'technical operations analyst',\n",
       "       'service coordinator', 'testing engineer', 'technical assistant',\n",
       "       'sap abap consultant', 'seo engineer', 'project assistant',\n",
       "       'talent acquisition specialist', 'sales account manager',\n",
       "       'software engineer trainee', 'customer service manager',\n",
       "       'help desk analyst', 'general manager', 'engineering manager',\n",
       "       'senior network engineer',\n",
       "       'field based employee relations manager', 'phone banking officer',\n",
       "       'support engineer', 'associate test engineer',\n",
       "       'technology analyst', 'network support engineer',\n",
       "       'it business analyst', 'junior system analyst',\n",
       "       'senior .net developer', 'secretary', 'research engineer',\n",
       "       'quality assurance auditor', 'process executive',\n",
       "       'lecturer & electrical maintenance', 'office coordinator',\n",
       "       'hr manager', 'html developer', 'sales support',\n",
       "       'front end web developer', 'administrative support',\n",
       "       'territory sales manager', 'project administrator',\n",
       "       'environmental engineer', 'web designer and seo',\n",
       "       'information security analyst',\n",
       "       'field business development associate', 'operational executive',\n",
       "       'administrative coordinator', 'senior risk consultant',\n",
       "       'desktop support engineer', 'cad drafter', 'noc engineer',\n",
       "       'industrial engineer', 'it engineer', 'human resources intern',\n",
       "       'senior quality assurance engineer', 'clerical assistant',\n",
       "       'software enginner', 'quality assurance',\n",
       "       'delivery software engineer', 'graphic designer',\n",
       "       'sales development manager', 'visiting faculty',\n",
       "       'business intelligence analyst', 'team lead',\n",
       "       'operational excellence manager', 'sales & service engineer',\n",
       "       'web intern', 'full stack developer', 'database developer',\n",
       "       'sr. database engineer', 'graduate apprentice trainee',\n",
       "       'software engineer associate', 'technical analyst',\n",
       "       'executive engg', 'it technician', 'business system analyst',\n",
       "       'process control engineer', 'technical consultant',\n",
       "       'business office manager', 'quality control inspector',\n",
       "       'product design engineer', 'manufacturing engineer',\n",
       "       'seo executive', 'sap analyst', 'software engineere',\n",
       "       'financial service consultant', 'co faculty', 'software analyst',\n",
       "       'desktop support analyst', 'graduate engineer',\n",
       "       'engineering technician', 'it assistant', 'marketing manager',\n",
       "       'human resource assistant', 'hr assistant', 'product developer',\n",
       "       'customer support engineer',\n",
       "       'quality control inspection technician', 'gis/cad engineer',\n",
       "       'senior web developer', 'sql developer', 'research staff member',\n",
       "       'sap abap associate consultant', 'associate qa',\n",
       "       'corporate recruiter', 'project management officer',\n",
       "       'business systems analyst', 'software programmer',\n",
       "       'help desk technician', 'sales manager', 'catalog associate',\n",
       "       'assistant store manager', 'software engg', 'it developer',\n",
       "       'apprentice', 'business consultant', 'controls engineer',\n",
       "       'ruby on rails developer', 'risk consultant', 'account manager',\n",
       "       'professor', 'assistant administrator', 'civil engineer',\n",
       "       'educator', 'service manager', 'teradata dba',\n",
       "       'full-time loss prevention associate', 'junior recruiter',\n",
       "       'associate developer', 'assistant electrical engineer',\n",
       "       'shift engineer', 'dotnet developer', 'rf/dt engineer',\n",
       "       'human resources analyst', 'software test engineerte',\n",
       "       'junior .net developer', 'java trainee', 'maintenance supervisor',\n",
       "       'r&d engineer', 'front end developer', 'engineer-hws',\n",
       "       'operations engineer', 'senior research fellow',\n",
       "       'web designer and joomla administrator',\n",
       "       'enterprise solutions developer',\n",
       "       'information technology specialist', 'site engineer',\n",
       "       'graduate trainee engineer', 'quality assurance analyst',\n",
       "       'cnc programmer', 'financial analyst', 'system engineer trainee',\n",
       "       'sap mm consultant', 'assistant system engineer trainee',\n",
       "       'qa trainee', 'teradata developer', 'hr executive',\n",
       "       'senior programmer', 'software test engineer (etl)',\n",
       "       'associate software engg', 'supply chain analyst', 'sales trainer',\n",
       "       'software executive', 'team leader',\n",
       "       'assistant system engineer - trainee', 'seo analyst',\n",
       "       'risk investigator', 'executive administrative assistant',\n",
       "       'program manager', 'r & d', 'sap functional consultant',\n",
       "       'website developer/tester', 'software designer',\n",
       "       'sales coordinator', 'qa engineer', 'aircraft technician',\n",
       "       'customer care executive', 'senior test engineer',\n",
       "       'program analyst trainee', 'electrical controls engineer',\n",
       "       'trainee decision scientist', 'editor', 'bss engineer', 'dba',\n",
       "       'software eng', 'computer faculty', 'recruitment associate',\n",
       "       'logistics executive', 'quality consultant',\n",
       "       'senior sales executive', 'db2 dba', 'test technician',\n",
       "       'it operations associate', 'software engineering associate',\n",
       "       'research scientist', 'jr. software developer'], dtype=object)"
      ]
     },
     "execution_count": 19,
     "metadata": {},
     "output_type": "execute_result"
    }
   ],
   "source": [
    "df['Designation'].unique()"
   ]
  },
  {
   "cell_type": "code",
   "execution_count": 20,
   "id": "745d71ce",
   "metadata": {},
   "outputs": [
    {
     "data": {
      "text/plain": [
       "array(['Bangalore', 'Indore', 'Chennai', 'Gurgaon', 'Manesar',\n",
       "       'Hyderabad', 'Banglore', 'Noida', 'Kolkata', 'Pune', '-1',\n",
       "       'mohali', 'Jhansi', 'Delhi', 'Hyderabad ', 'Bangalore ', 'noida',\n",
       "       'delhi', 'Bhubaneswar', 'Navi Mumbai', 'Mumbai', 'New Delhi',\n",
       "       'Mangalore', 'Rewari', 'Gaziabaad', 'Bhiwadi', 'Mysore', 'Rajkot',\n",
       "       'Greater Noida', 'Jaipur', 'noida ', 'HYDERABAD', 'mysore',\n",
       "       'THANE', 'Maharajganj', 'Thiruvananthapuram', 'Punchkula',\n",
       "       'Bhubaneshwar', 'Pune ', 'coimbatore', 'Dhanbad', 'Lucknow',\n",
       "       'Trivandrum', 'kolkata', 'mumbai', 'Gandhi Nagar', 'Una',\n",
       "       'Daman and Diu', 'chennai', 'GURGOAN', 'vsakhapttnam', 'pune',\n",
       "       'Nagpur', 'Bhagalpur', 'new delhi - jaisalmer', 'Coimbatore',\n",
       "       'Ahmedabad', 'Kochi/Cochin', 'Bankura', 'Bengaluru', 'Mysore ',\n",
       "       'Kanpur ', 'jaipur', 'Gurgaon ', 'bangalore', 'CHENNAI',\n",
       "       'Vijayawada', 'Kochi', 'Beawar', 'Alwar', 'NOIDA', 'Greater noida',\n",
       "       'Siliguri ', 'raipur', 'gurgaon', 'Bhopal', 'Faridabad', 'Jodhpur',\n",
       "       'udaipur', 'Muzaffarpur', 'Kolkata`', 'Bulandshahar', 'Haridwar',\n",
       "       'Raigarh', 'Visakhapatnam', 'Jabalpur', 'hyderabad', 'Unnao',\n",
       "       'KOLKATA', 'Thane', 'Aurangabad', 'Belgaum', 'gurgoan', 'Dehradun',\n",
       "       'Rudrapur', 'Jamshedpur', 'vizag', 'Nouda', 'Dharamshala',\n",
       "       'Banagalore', 'Hissar', 'Ranchi', 'BANGALORE', 'Madurai', 'Gurga',\n",
       "       'Chandigarh', 'Australia', ' Chennai', 'CHEYYAR', 'Mumbai ',\n",
       "       'sonepat', 'Ghaziabad', 'Pantnagar', 'Siliguri', 'mumbai ',\n",
       "       'Jagdalpur', 'Chennai ', 'angul', 'Baroda', ' ariyalur', 'Jowai',\n",
       "       'Kochi/Cochin, Chennai and Coimbatore', 'bhubaneswar', 'Neemrana',\n",
       "       'VIZAG', 'Tirupathi', 'Lucknow ', 'Ahmedabad ', 'Bhubneshwar',\n",
       "       'Noida ', 'pune ', 'Calicut', 'Gandhinagar', 'LUCKNOW', 'Dubai',\n",
       "       'bengaluru', 'MUMBAI', 'Ahmednagar', 'Nashik', 'New delhi',\n",
       "       'Bellary', 'Ludhiana', 'New Delhi ', 'Muzaffarnagar', 'BHOPAL',\n",
       "       'Gurgoan', 'Gagret', 'Indirapuram, Ghaziabad', 'Gwalior',\n",
       "       'new delhi', 'TRIVANDRUM', 'Chennai & Mumbai', 'Rajasthan',\n",
       "       'Sonipat', 'Bareli', 'Kanpur', 'Hospete', 'Miryalaguda', ' mumbai',\n",
       "       'Dharuhera', 'lucknow', 'meerut', 'dehradun', 'Ganjam', 'Hubli',\n",
       "       'bangalore ', 'NAVI MUMBAI', 'ncr', 'Agra', 'Trichy',\n",
       "       'kudankulam ,tarapur', 'Ongole', 'Sambalpur', 'Pondicherry',\n",
       "       'Bundi', 'SADULPUR,RAJGARH,DISTT-CHURU,RAJASTHAN', 'AM', 'Bikaner',\n",
       "       'Vadodara', 'BAngalore', 'india', 'Asansol', 'Tirunelvelli',\n",
       "       'Ernakulam', 'DELHI', 'Bilaspur', 'Chandrapur', 'Nanded',\n",
       "       'Dharmapuri', 'Vandavasi', 'Rohtak', 'trivandrum', 'Nagpur ',\n",
       "       'Udaipur', 'Patna', 'banglore', 'indore', 'Salem', 'Nasikcity',\n",
       "       'Gandhinagar ', 'Technopark, Trivandrum', 'Bharuch', 'Tornagallu',\n",
       "       'Raipur', 'Kolkata ', 'Jaspur', 'Burdwan', 'Bhubaneswar ',\n",
       "       'Shimla', 'ahmedabad', 'Gajiabaad', 'Jammu', 'Shahdol',\n",
       "       'Muvattupuzha', 'Al Jubail,Saudi Arabia', 'Kalmar, Sweden',\n",
       "       'Secunderabad', 'A-64,sec-64,noida', 'Ratnagiri', 'Jhajjar',\n",
       "       'Gulbarga', 'hyderabad(bhadurpally)', 'Nalagarh', 'Chandigarh ',\n",
       "       'Jaipur ', 'Jeddah Saudi Arabia', ' Delhi', 'PATNA', 'SHAHDOL',\n",
       "       'Chennai, Bangalore', 'Bhopal ', 'Jamnagar', 'PUNE', 'Tirupati',\n",
       "       'Gonda', 'jamnagar', 'chennai ', 'orissa', 'kharagpur',\n",
       "       'Trivandrum ', 'Navi Mumbai , Hyderabad', 'Joshimath',\n",
       "       'chandigarh', 'Bathinda', 'Johannesburg', 'kala amb ', 'Karnal',\n",
       "       'LONDON', 'Kota', 'Panchkula', 'Baddi HP', 'Nagari',\n",
       "       'Mettur, Tamil Nadu ', 'Durgapur', 'pondi', 'Surat', 'Kurnool',\n",
       "       'kolhapur', 'Madurai ', 'GREATER NOIDA', 'Bhilai', ' Pune',\n",
       "       'hderabad', 'KOTA', 'thane', 'Vizag', 'Bahadurgarh',\n",
       "       'Rayagada, Odisha', 'kakinada', 'GURGAON', 'Varanasi', 'punr',\n",
       "       'Nellore', 'patna', 'Meerut', 'hyderabad ', 'Sahibabad', 'Howrah',\n",
       "       'BHUBANESWAR', 'Trichur', 'Ambala', 'Khopoli', 'keral', 'Roorkee',\n",
       "       'Greater NOIDA', 'Navi mumbai', 'ghaziabad', 'Allahabad',\n",
       "       'Delhi/NCR', 'Panchkula ', 'Ranchi ', 'Jalandhar', 'manesar',\n",
       "       'vapi', 'PILANI', 'muzzafarpur', 'RAS AL KHAIMAH', 'bihar',\n",
       "       'singaruli', 'KANPUR', 'Banglore ', 'pondy', 'Mohali', 'Phagwara',\n",
       "       ' Mumbai', ' bangalore', 'GURAGAON', 'Baripada', 'MEERUT',\n",
       "       'Yamuna Nagar', 'shahibabad', 'sampla', 'Guwahati', 'Rourkela',\n",
       "       'Banaglore', 'Vellore', 'Dausa', 'latur (Maharashtra )',\n",
       "       'NEW DELHI', 'kanpur', 'Mainpuri', 'karnal', 'Dammam', 'Haldia',\n",
       "       'sambalpur', 'RAE BARELI', 'ranchi', 'jAipur', 'BANGLORE',\n",
       "       'Patiala', 'Gorakhpur', 'new dehli', 'BANGALORE ', 'Ambala City',\n",
       "       'Karad', 'Rajpura', 'Pilani', 'haryana', 'Asifabadbanglore'],\n",
       "      dtype=object)"
      ]
     },
     "execution_count": 20,
     "metadata": {},
     "output_type": "execute_result"
    }
   ],
   "source": [
    "df['JobCity'].unique()"
   ]
  },
  {
   "cell_type": "code",
   "execution_count": 21,
   "id": "7c735900",
   "metadata": {},
   "outputs": [
    {
     "data": {
      "text/html": [
       "<div>\n",
       "<style scoped>\n",
       "    .dataframe tbody tr th:only-of-type {\n",
       "        vertical-align: middle;\n",
       "    }\n",
       "\n",
       "    .dataframe tbody tr th {\n",
       "        vertical-align: top;\n",
       "    }\n",
       "\n",
       "    .dataframe thead th {\n",
       "        text-align: right;\n",
       "    }\n",
       "</style>\n",
       "<table border=\"1\" class=\"dataframe\">\n",
       "  <thead>\n",
       "    <tr style=\"text-align: right;\">\n",
       "      <th></th>\n",
       "      <th>ID</th>\n",
       "      <th>Salary</th>\n",
       "      <th>DOJ</th>\n",
       "      <th>DOL</th>\n",
       "      <th>Designation</th>\n",
       "      <th>JobCity</th>\n",
       "      <th>Gender</th>\n",
       "      <th>DOB</th>\n",
       "      <th>10percentage</th>\n",
       "      <th>10board</th>\n",
       "      <th>...</th>\n",
       "      <th>ComputerScience</th>\n",
       "      <th>MechanicalEngg</th>\n",
       "      <th>ElectricalEngg</th>\n",
       "      <th>TelecomEngg</th>\n",
       "      <th>CivilEngg</th>\n",
       "      <th>conscientiousness</th>\n",
       "      <th>agreeableness</th>\n",
       "      <th>extraversion</th>\n",
       "      <th>nueroticism</th>\n",
       "      <th>openess_to_experience</th>\n",
       "    </tr>\n",
       "  </thead>\n",
       "  <tbody>\n",
       "    <tr>\n",
       "      <th>0</th>\n",
       "      <td>203097</td>\n",
       "      <td>420000.0</td>\n",
       "      <td>2012-06-01</td>\n",
       "      <td>present</td>\n",
       "      <td>senior quality engineer</td>\n",
       "      <td>Bangalore</td>\n",
       "      <td>f</td>\n",
       "      <td>1990-02-19</td>\n",
       "      <td>84.3</td>\n",
       "      <td>board ofsecondary education,ap</td>\n",
       "      <td>...</td>\n",
       "      <td>-1</td>\n",
       "      <td>-1</td>\n",
       "      <td>-1</td>\n",
       "      <td>-1</td>\n",
       "      <td>-1</td>\n",
       "      <td>0.9737</td>\n",
       "      <td>0.8128</td>\n",
       "      <td>0.5269</td>\n",
       "      <td>1.35490</td>\n",
       "      <td>-0.4455</td>\n",
       "    </tr>\n",
       "    <tr>\n",
       "      <th>1</th>\n",
       "      <td>579905</td>\n",
       "      <td>500000.0</td>\n",
       "      <td>2013-09-01</td>\n",
       "      <td>present</td>\n",
       "      <td>assistant manager</td>\n",
       "      <td>Indore</td>\n",
       "      <td>m</td>\n",
       "      <td>1989-10-04</td>\n",
       "      <td>85.4</td>\n",
       "      <td>cbse</td>\n",
       "      <td>...</td>\n",
       "      <td>-1</td>\n",
       "      <td>-1</td>\n",
       "      <td>-1</td>\n",
       "      <td>-1</td>\n",
       "      <td>-1</td>\n",
       "      <td>-0.7335</td>\n",
       "      <td>0.3789</td>\n",
       "      <td>1.2396</td>\n",
       "      <td>-0.10760</td>\n",
       "      <td>0.8637</td>\n",
       "    </tr>\n",
       "    <tr>\n",
       "      <th>2</th>\n",
       "      <td>810601</td>\n",
       "      <td>325000.0</td>\n",
       "      <td>2014-06-01</td>\n",
       "      <td>present</td>\n",
       "      <td>systems engineer</td>\n",
       "      <td>Chennai</td>\n",
       "      <td>f</td>\n",
       "      <td>1992-08-03</td>\n",
       "      <td>85.0</td>\n",
       "      <td>cbse</td>\n",
       "      <td>...</td>\n",
       "      <td>-1</td>\n",
       "      <td>-1</td>\n",
       "      <td>-1</td>\n",
       "      <td>-1</td>\n",
       "      <td>-1</td>\n",
       "      <td>0.2718</td>\n",
       "      <td>1.7109</td>\n",
       "      <td>0.1637</td>\n",
       "      <td>-0.86820</td>\n",
       "      <td>0.6721</td>\n",
       "    </tr>\n",
       "    <tr>\n",
       "      <th>3</th>\n",
       "      <td>267447</td>\n",
       "      <td>1100000.0</td>\n",
       "      <td>2011-07-01</td>\n",
       "      <td>present</td>\n",
       "      <td>senior software engineer</td>\n",
       "      <td>Gurgaon</td>\n",
       "      <td>m</td>\n",
       "      <td>1989-12-05</td>\n",
       "      <td>85.6</td>\n",
       "      <td>cbse</td>\n",
       "      <td>...</td>\n",
       "      <td>-1</td>\n",
       "      <td>-1</td>\n",
       "      <td>-1</td>\n",
       "      <td>-1</td>\n",
       "      <td>-1</td>\n",
       "      <td>0.0464</td>\n",
       "      <td>0.3448</td>\n",
       "      <td>-0.3440</td>\n",
       "      <td>-0.40780</td>\n",
       "      <td>-0.9194</td>\n",
       "    </tr>\n",
       "    <tr>\n",
       "      <th>4</th>\n",
       "      <td>343523</td>\n",
       "      <td>200000.0</td>\n",
       "      <td>2014-03-01</td>\n",
       "      <td>3/1/15 0:00</td>\n",
       "      <td>get</td>\n",
       "      <td>Manesar</td>\n",
       "      <td>m</td>\n",
       "      <td>1991-02-27</td>\n",
       "      <td>78.0</td>\n",
       "      <td>cbse</td>\n",
       "      <td>...</td>\n",
       "      <td>-1</td>\n",
       "      <td>-1</td>\n",
       "      <td>-1</td>\n",
       "      <td>-1</td>\n",
       "      <td>-1</td>\n",
       "      <td>-0.8810</td>\n",
       "      <td>-0.2793</td>\n",
       "      <td>-1.0697</td>\n",
       "      <td>0.09163</td>\n",
       "      <td>-0.1295</td>\n",
       "    </tr>\n",
       "  </tbody>\n",
       "</table>\n",
       "<p>5 rows × 38 columns</p>\n",
       "</div>"
      ],
      "text/plain": [
       "       ID     Salary         DOJ          DOL               Designation  \\\n",
       "0  203097   420000.0  2012-06-01      present   senior quality engineer   \n",
       "1  579905   500000.0  2013-09-01      present         assistant manager   \n",
       "2  810601   325000.0  2014-06-01      present          systems engineer   \n",
       "3  267447  1100000.0  2011-07-01      present  senior software engineer   \n",
       "4  343523   200000.0  2014-03-01  3/1/15 0:00                       get   \n",
       "\n",
       "     JobCity Gender         DOB  10percentage                         10board  \\\n",
       "0  Bangalore      f  1990-02-19          84.3  board ofsecondary education,ap   \n",
       "1     Indore      m  1989-10-04          85.4                            cbse   \n",
       "2    Chennai      f  1992-08-03          85.0                            cbse   \n",
       "3    Gurgaon      m  1989-12-05          85.6                            cbse   \n",
       "4    Manesar      m  1991-02-27          78.0                            cbse   \n",
       "\n",
       "   ...  ComputerScience  MechanicalEngg ElectricalEngg  TelecomEngg  \\\n",
       "0  ...               -1              -1             -1           -1   \n",
       "1  ...               -1              -1             -1           -1   \n",
       "2  ...               -1              -1             -1           -1   \n",
       "3  ...               -1              -1             -1           -1   \n",
       "4  ...               -1              -1             -1           -1   \n",
       "\n",
       "   CivilEngg conscientiousness agreeableness  extraversion  nueroticism  \\\n",
       "0         -1            0.9737        0.8128        0.5269      1.35490   \n",
       "1         -1           -0.7335        0.3789        1.2396     -0.10760   \n",
       "2         -1            0.2718        1.7109        0.1637     -0.86820   \n",
       "3         -1            0.0464        0.3448       -0.3440     -0.40780   \n",
       "4         -1           -0.8810       -0.2793       -1.0697      0.09163   \n",
       "\n",
       "   openess_to_experience  \n",
       "0                -0.4455  \n",
       "1                 0.8637  \n",
       "2                 0.6721  \n",
       "3                -0.9194  \n",
       "4                -0.1295  \n",
       "\n",
       "[5 rows x 38 columns]"
      ]
     },
     "execution_count": 21,
     "metadata": {},
     "output_type": "execute_result"
    }
   ],
   "source": [
    "df.head()"
   ]
  },
  {
   "cell_type": "code",
   "execution_count": 22,
   "id": "637cf9ed",
   "metadata": {},
   "outputs": [
    {
     "data": {
      "text/plain": [
       "77.9254427213607"
      ]
     },
     "execution_count": 22,
     "metadata": {},
     "output_type": "execute_result"
    }
   ],
   "source": [
    "df['10percentage'].mean()"
   ]
  },
  {
   "cell_type": "code",
   "execution_count": 23,
   "id": "c12383a6",
   "metadata": {},
   "outputs": [],
   "source": [
    "df[['ComputerScience','MechanicalEngg','ElectricalEngg','TelecomEngg','CivilEngg']] = df[['ComputerScience','MechanicalEngg','ElectricalEngg','TelecomEngg','CivilEngg']].replace(-1,0)"
   ]
  },
  {
   "cell_type": "code",
   "execution_count": 24,
   "id": "1cdf5b26",
   "metadata": {},
   "outputs": [
    {
     "data": {
      "text/html": [
       "<div>\n",
       "<style scoped>\n",
       "    .dataframe tbody tr th:only-of-type {\n",
       "        vertical-align: middle;\n",
       "    }\n",
       "\n",
       "    .dataframe tbody tr th {\n",
       "        vertical-align: top;\n",
       "    }\n",
       "\n",
       "    .dataframe thead th {\n",
       "        text-align: right;\n",
       "    }\n",
       "</style>\n",
       "<table border=\"1\" class=\"dataframe\">\n",
       "  <thead>\n",
       "    <tr style=\"text-align: right;\">\n",
       "      <th></th>\n",
       "      <th>ComputerScience</th>\n",
       "      <th>MechanicalEngg</th>\n",
       "      <th>ElectricalEngg</th>\n",
       "      <th>TelecomEngg</th>\n",
       "      <th>CivilEngg</th>\n",
       "    </tr>\n",
       "  </thead>\n",
       "  <tbody>\n",
       "    <tr>\n",
       "      <th>0</th>\n",
       "      <td>0</td>\n",
       "      <td>0</td>\n",
       "      <td>0</td>\n",
       "      <td>0</td>\n",
       "      <td>0</td>\n",
       "    </tr>\n",
       "    <tr>\n",
       "      <th>1</th>\n",
       "      <td>0</td>\n",
       "      <td>0</td>\n",
       "      <td>0</td>\n",
       "      <td>0</td>\n",
       "      <td>0</td>\n",
       "    </tr>\n",
       "    <tr>\n",
       "      <th>2</th>\n",
       "      <td>0</td>\n",
       "      <td>0</td>\n",
       "      <td>0</td>\n",
       "      <td>0</td>\n",
       "      <td>0</td>\n",
       "    </tr>\n",
       "    <tr>\n",
       "      <th>3</th>\n",
       "      <td>0</td>\n",
       "      <td>0</td>\n",
       "      <td>0</td>\n",
       "      <td>0</td>\n",
       "      <td>0</td>\n",
       "    </tr>\n",
       "    <tr>\n",
       "      <th>4</th>\n",
       "      <td>0</td>\n",
       "      <td>0</td>\n",
       "      <td>0</td>\n",
       "      <td>0</td>\n",
       "      <td>0</td>\n",
       "    </tr>\n",
       "    <tr>\n",
       "      <th>...</th>\n",
       "      <td>...</td>\n",
       "      <td>...</td>\n",
       "      <td>...</td>\n",
       "      <td>...</td>\n",
       "      <td>...</td>\n",
       "    </tr>\n",
       "    <tr>\n",
       "      <th>3993</th>\n",
       "      <td>0</td>\n",
       "      <td>0</td>\n",
       "      <td>0</td>\n",
       "      <td>0</td>\n",
       "      <td>0</td>\n",
       "    </tr>\n",
       "    <tr>\n",
       "      <th>3994</th>\n",
       "      <td>0</td>\n",
       "      <td>0</td>\n",
       "      <td>0</td>\n",
       "      <td>0</td>\n",
       "      <td>0</td>\n",
       "    </tr>\n",
       "    <tr>\n",
       "      <th>3995</th>\n",
       "      <td>0</td>\n",
       "      <td>0</td>\n",
       "      <td>0</td>\n",
       "      <td>0</td>\n",
       "      <td>0</td>\n",
       "    </tr>\n",
       "    <tr>\n",
       "      <th>3996</th>\n",
       "      <td>438</td>\n",
       "      <td>0</td>\n",
       "      <td>0</td>\n",
       "      <td>0</td>\n",
       "      <td>0</td>\n",
       "    </tr>\n",
       "    <tr>\n",
       "      <th>3997</th>\n",
       "      <td>0</td>\n",
       "      <td>0</td>\n",
       "      <td>0</td>\n",
       "      <td>0</td>\n",
       "      <td>0</td>\n",
       "    </tr>\n",
       "  </tbody>\n",
       "</table>\n",
       "<p>3998 rows × 5 columns</p>\n",
       "</div>"
      ],
      "text/plain": [
       "      ComputerScience  MechanicalEngg  ElectricalEngg  TelecomEngg  CivilEngg\n",
       "0                   0               0               0            0          0\n",
       "1                   0               0               0            0          0\n",
       "2                   0               0               0            0          0\n",
       "3                   0               0               0            0          0\n",
       "4                   0               0               0            0          0\n",
       "...               ...             ...             ...          ...        ...\n",
       "3993                0               0               0            0          0\n",
       "3994                0               0               0            0          0\n",
       "3995                0               0               0            0          0\n",
       "3996              438               0               0            0          0\n",
       "3997                0               0               0            0          0\n",
       "\n",
       "[3998 rows x 5 columns]"
      ]
     },
     "execution_count": 24,
     "metadata": {},
     "output_type": "execute_result"
    }
   ],
   "source": [
    "df[['ComputerScience','MechanicalEngg','ElectricalEngg','TelecomEngg','CivilEngg']]"
   ]
  },
  {
   "cell_type": "code",
   "execution_count": 25,
   "id": "7dbc7b16",
   "metadata": {},
   "outputs": [],
   "source": [
    "df['JobCity'] = df['JobCity'].str.lower()\n",
    "df['Designation']= df['Designation'].str.lower()\n",
    "df['10board']= df['10board'].str.lower()"
   ]
  },
  {
   "cell_type": "code",
   "execution_count": 26,
   "id": "8124cb5b",
   "metadata": {},
   "outputs": [
    {
     "data": {
      "text/plain": [
       "262"
      ]
     },
     "execution_count": 26,
     "metadata": {},
     "output_type": "execute_result"
    }
   ],
   "source": [
    "df['JobCity'].nunique()"
   ]
  },
  {
   "cell_type": "code",
   "execution_count": 27,
   "id": "2eee2c6e",
   "metadata": {},
   "outputs": [
    {
     "data": {
      "text/plain": [
       "419"
      ]
     },
     "execution_count": 27,
     "metadata": {},
     "output_type": "execute_result"
    }
   ],
   "source": [
    "df['Designation'].nunique()"
   ]
  },
  {
   "cell_type": "code",
   "execution_count": 28,
   "id": "da082d51",
   "metadata": {},
   "outputs": [
    {
     "data": {
      "text/plain": [
       "275"
      ]
     },
     "execution_count": 28,
     "metadata": {},
     "output_type": "execute_result"
    }
   ],
   "source": [
    "df['10board'].nunique()"
   ]
  },
  {
   "cell_type": "markdown",
   "id": "b209d99f",
   "metadata": {},
   "source": [
    "##### Count (number of non-null entries) Mean Standard Deviation Min and Max 25th, 50th (Median), and 75th percentiles"
   ]
  },
  {
   "cell_type": "code",
   "execution_count": 29,
   "id": "7eaabec3",
   "metadata": {},
   "outputs": [
    {
     "data": {
      "text/html": [
       "<div>\n",
       "<style scoped>\n",
       "    .dataframe tbody tr th:only-of-type {\n",
       "        vertical-align: middle;\n",
       "    }\n",
       "\n",
       "    .dataframe tbody tr th {\n",
       "        vertical-align: top;\n",
       "    }\n",
       "\n",
       "    .dataframe thead th {\n",
       "        text-align: right;\n",
       "    }\n",
       "</style>\n",
       "<table border=\"1\" class=\"dataframe\">\n",
       "  <thead>\n",
       "    <tr style=\"text-align: right;\">\n",
       "      <th></th>\n",
       "      <th>ComputerScience</th>\n",
       "      <th>MechanicalEngg</th>\n",
       "      <th>ElectricalEngg</th>\n",
       "      <th>TelecomEngg</th>\n",
       "      <th>CivilEngg</th>\n",
       "    </tr>\n",
       "  </thead>\n",
       "  <tbody>\n",
       "    <tr>\n",
       "      <th>count</th>\n",
       "      <td>3998.000000</td>\n",
       "      <td>3998.000000</td>\n",
       "      <td>3998.000000</td>\n",
       "      <td>3998.000000</td>\n",
       "      <td>3998.000000</td>\n",
       "    </tr>\n",
       "    <tr>\n",
       "      <th>mean</th>\n",
       "      <td>91.516758</td>\n",
       "      <td>23.915958</td>\n",
       "      <td>17.438469</td>\n",
       "      <td>32.757629</td>\n",
       "      <td>3.673337</td>\n",
       "    </tr>\n",
       "    <tr>\n",
       "      <th>std</th>\n",
       "      <td>174.867677</td>\n",
       "      <td>97.893295</td>\n",
       "      <td>87.394072</td>\n",
       "      <td>104.568796</td>\n",
       "      <td>36.559052</td>\n",
       "    </tr>\n",
       "    <tr>\n",
       "      <th>min</th>\n",
       "      <td>0.000000</td>\n",
       "      <td>0.000000</td>\n",
       "      <td>0.000000</td>\n",
       "      <td>0.000000</td>\n",
       "      <td>0.000000</td>\n",
       "    </tr>\n",
       "    <tr>\n",
       "      <th>25%</th>\n",
       "      <td>0.000000</td>\n",
       "      <td>0.000000</td>\n",
       "      <td>0.000000</td>\n",
       "      <td>0.000000</td>\n",
       "      <td>0.000000</td>\n",
       "    </tr>\n",
       "    <tr>\n",
       "      <th>50%</th>\n",
       "      <td>0.000000</td>\n",
       "      <td>0.000000</td>\n",
       "      <td>0.000000</td>\n",
       "      <td>0.000000</td>\n",
       "      <td>0.000000</td>\n",
       "    </tr>\n",
       "    <tr>\n",
       "      <th>75%</th>\n",
       "      <td>0.000000</td>\n",
       "      <td>0.000000</td>\n",
       "      <td>0.000000</td>\n",
       "      <td>0.000000</td>\n",
       "      <td>0.000000</td>\n",
       "    </tr>\n",
       "    <tr>\n",
       "      <th>max</th>\n",
       "      <td>715.000000</td>\n",
       "      <td>623.000000</td>\n",
       "      <td>676.000000</td>\n",
       "      <td>548.000000</td>\n",
       "      <td>516.000000</td>\n",
       "    </tr>\n",
       "  </tbody>\n",
       "</table>\n",
       "</div>"
      ],
      "text/plain": [
       "       ComputerScience  MechanicalEngg  ElectricalEngg  TelecomEngg  \\\n",
       "count      3998.000000     3998.000000     3998.000000  3998.000000   \n",
       "mean         91.516758       23.915958       17.438469    32.757629   \n",
       "std         174.867677       97.893295       87.394072   104.568796   \n",
       "min           0.000000        0.000000        0.000000     0.000000   \n",
       "25%           0.000000        0.000000        0.000000     0.000000   \n",
       "50%           0.000000        0.000000        0.000000     0.000000   \n",
       "75%           0.000000        0.000000        0.000000     0.000000   \n",
       "max         715.000000      623.000000      676.000000   548.000000   \n",
       "\n",
       "         CivilEngg  \n",
       "count  3998.000000  \n",
       "mean      3.673337  \n",
       "std      36.559052  \n",
       "min       0.000000  \n",
       "25%       0.000000  \n",
       "50%       0.000000  \n",
       "75%       0.000000  \n",
       "max     516.000000  "
      ]
     },
     "execution_count": 29,
     "metadata": {},
     "output_type": "execute_result"
    }
   ],
   "source": [
    "df[['ComputerScience','MechanicalEngg','ElectricalEngg','TelecomEngg','CivilEngg']].describe()"
   ]
  },
  {
   "cell_type": "markdown",
   "id": "1aa199cb",
   "metadata": {},
   "source": [
    "##### Skweness"
   ]
  },
  {
   "cell_type": "code",
   "execution_count": 30,
   "id": "8e68f8dc",
   "metadata": {},
   "outputs": [
    {
     "data": {
      "text/plain": [
       "ComputerScience     1.530511\n",
       "MechanicalEngg      4.030835\n",
       "ElectricalEngg      5.062039\n",
       "TelecomEngg         3.042584\n",
       "CivilEngg          10.319461\n",
       "10percentage       -0.591019\n",
       "dtype: float64"
      ]
     },
     "execution_count": 30,
     "metadata": {},
     "output_type": "execute_result"
    }
   ],
   "source": [
    "df[['ComputerScience','MechanicalEngg','ElectricalEngg','TelecomEngg','CivilEngg','10percentage']].skew()"
   ]
  },
  {
   "cell_type": "markdown",
   "id": "a82e3e3f",
   "metadata": {},
   "source": [
    "##### Kurtosis"
   ]
  },
  {
   "cell_type": "code",
   "execution_count": 31,
   "id": "b05d6ace",
   "metadata": {},
   "outputs": [
    {
     "data": {
      "text/plain": [
       "ComputerScience            0.697248\n",
       "MechanicalEngg            15.032665\n",
       "ElectricalEngg            24.899819\n",
       "TelecomEngg                7.821100\n",
       "CivilEngg                109.142713\n",
       "10percentage              -0.110284\n",
       "conscientiousness          0.122596\n",
       "agreeableness              3.391242\n",
       "extraversion               0.643969\n",
       "nueroticism               -0.191539\n",
       "openess_to_experience      5.788327\n",
       "dtype: float64"
      ]
     },
     "execution_count": 31,
     "metadata": {},
     "output_type": "execute_result"
    }
   ],
   "source": [
    "df[['ComputerScience','MechanicalEngg','ElectricalEngg','TelecomEngg','CivilEngg','10percentage','conscientiousness','agreeableness','extraversion','nueroticism','openess_to_experience']].kurtosis()"
   ]
  },
  {
   "cell_type": "markdown",
   "id": "89d0ec48",
   "metadata": {},
   "source": [
    "#### Visualization"
   ]
  },
  {
   "cell_type": "code",
   "execution_count": 32,
   "id": "22837f5b",
   "metadata": {},
   "outputs": [],
   "source": [
    "import matplotlib.pyplot as plt\n",
    "import seaborn as sns"
   ]
  },
  {
   "cell_type": "code",
   "execution_count": 33,
   "id": "81df6570",
   "metadata": {},
   "outputs": [
    {
     "data": {
      "text/plain": [
       "dtype('float64')"
      ]
     },
     "execution_count": 33,
     "metadata": {},
     "output_type": "execute_result"
    }
   ],
   "source": [
    "df['10percentage'].dtype"
   ]
  },
  {
   "cell_type": "code",
   "execution_count": 34,
   "id": "2316b169",
   "metadata": {},
   "outputs": [
    {
     "data": {
      "text/html": [
       "<div>\n",
       "<style scoped>\n",
       "    .dataframe tbody tr th:only-of-type {\n",
       "        vertical-align: middle;\n",
       "    }\n",
       "\n",
       "    .dataframe tbody tr th {\n",
       "        vertical-align: top;\n",
       "    }\n",
       "\n",
       "    .dataframe thead th {\n",
       "        text-align: right;\n",
       "    }\n",
       "</style>\n",
       "<table border=\"1\" class=\"dataframe\">\n",
       "  <thead>\n",
       "    <tr style=\"text-align: right;\">\n",
       "      <th></th>\n",
       "      <th>ID</th>\n",
       "      <th>Salary</th>\n",
       "      <th>DOJ</th>\n",
       "      <th>DOL</th>\n",
       "      <th>Designation</th>\n",
       "      <th>JobCity</th>\n",
       "      <th>Gender</th>\n",
       "      <th>DOB</th>\n",
       "      <th>10percentage</th>\n",
       "      <th>10board</th>\n",
       "      <th>...</th>\n",
       "      <th>ComputerScience</th>\n",
       "      <th>MechanicalEngg</th>\n",
       "      <th>ElectricalEngg</th>\n",
       "      <th>TelecomEngg</th>\n",
       "      <th>CivilEngg</th>\n",
       "      <th>conscientiousness</th>\n",
       "      <th>agreeableness</th>\n",
       "      <th>extraversion</th>\n",
       "      <th>nueroticism</th>\n",
       "      <th>openess_to_experience</th>\n",
       "    </tr>\n",
       "  </thead>\n",
       "  <tbody>\n",
       "    <tr>\n",
       "      <th>0</th>\n",
       "      <td>203097</td>\n",
       "      <td>420000.0</td>\n",
       "      <td>2012-06-01</td>\n",
       "      <td>present</td>\n",
       "      <td>senior quality engineer</td>\n",
       "      <td>bangalore</td>\n",
       "      <td>f</td>\n",
       "      <td>1990-02-19</td>\n",
       "      <td>84.3</td>\n",
       "      <td>board ofsecondary education,ap</td>\n",
       "      <td>...</td>\n",
       "      <td>0</td>\n",
       "      <td>0</td>\n",
       "      <td>0</td>\n",
       "      <td>0</td>\n",
       "      <td>0</td>\n",
       "      <td>0.9737</td>\n",
       "      <td>0.8128</td>\n",
       "      <td>0.5269</td>\n",
       "      <td>1.3549</td>\n",
       "      <td>-0.4455</td>\n",
       "    </tr>\n",
       "    <tr>\n",
       "      <th>1</th>\n",
       "      <td>579905</td>\n",
       "      <td>500000.0</td>\n",
       "      <td>2013-09-01</td>\n",
       "      <td>present</td>\n",
       "      <td>assistant manager</td>\n",
       "      <td>indore</td>\n",
       "      <td>m</td>\n",
       "      <td>1989-10-04</td>\n",
       "      <td>85.4</td>\n",
       "      <td>cbse</td>\n",
       "      <td>...</td>\n",
       "      <td>0</td>\n",
       "      <td>0</td>\n",
       "      <td>0</td>\n",
       "      <td>0</td>\n",
       "      <td>0</td>\n",
       "      <td>-0.7335</td>\n",
       "      <td>0.3789</td>\n",
       "      <td>1.2396</td>\n",
       "      <td>-0.1076</td>\n",
       "      <td>0.8637</td>\n",
       "    </tr>\n",
       "  </tbody>\n",
       "</table>\n",
       "<p>2 rows × 38 columns</p>\n",
       "</div>"
      ],
      "text/plain": [
       "       ID    Salary         DOJ      DOL              Designation    JobCity  \\\n",
       "0  203097  420000.0  2012-06-01  present  senior quality engineer  bangalore   \n",
       "1  579905  500000.0  2013-09-01  present        assistant manager     indore   \n",
       "\n",
       "  Gender         DOB  10percentage                         10board  ...  \\\n",
       "0      f  1990-02-19          84.3  board ofsecondary education,ap  ...   \n",
       "1      m  1989-10-04          85.4                            cbse  ...   \n",
       "\n",
       "   ComputerScience  MechanicalEngg ElectricalEngg  TelecomEngg  CivilEngg  \\\n",
       "0                0               0              0            0          0   \n",
       "1                0               0              0            0          0   \n",
       "\n",
       "  conscientiousness agreeableness  extraversion  nueroticism  \\\n",
       "0            0.9737        0.8128        0.5269       1.3549   \n",
       "1           -0.7335        0.3789        1.2396      -0.1076   \n",
       "\n",
       "   openess_to_experience  \n",
       "0                -0.4455  \n",
       "1                 0.8637  \n",
       "\n",
       "[2 rows x 38 columns]"
      ]
     },
     "execution_count": 34,
     "metadata": {},
     "output_type": "execute_result"
    }
   ],
   "source": [
    "df.head(2)"
   ]
  },
  {
   "cell_type": "code",
   "execution_count": 35,
   "id": "16e574ce",
   "metadata": {
    "scrolled": false
   },
   "outputs": [
    {
     "data": {
      "image/png": "[encoded data removed]",
      "text/plain": [
       "<Figure size 640x480 with 1 Axes>"
      ]
     },
     "metadata": {},
     "output_type": "display_data"
    }
   ],
   "source": [
    "sns.countplot(x='Gender', data=df,color = 'purple')\n",
    "plt.title('Count of gender Categories')\n",
    "plt.xlabel('Gender')\n",
    "plt.ylabel('Count')\n",
    "plt.show()"
   ]
  },
  {
   "cell_type": "code",
   "execution_count": 36,
   "id": "81459065",
   "metadata": {},
   "outputs": [
    {
     "data": {
      "text/plain": [
       "Text(0, 0.5, 'Frequency')"
      ]
     },
     "execution_count": 36,
     "metadata": {},
     "output_type": "execute_result"
    },
    {
     "data": {
      "image/png": "[encoded data removed]",
      "text/plain": [
       "<Figure size 640x480 with 1 Axes>"
      ]
     },
     "metadata": {},
     "output_type": "display_data"
    }
   ],
   "source": [
    "plt.hist(df['10percentage'], bins=5, edgecolor='k', alpha=0.7)\n",
    "plt.title('10thpercantage Distribution')\n",
    "plt.xlabel('10Th percantage')\n",
    "plt.ylabel('Frequency')\n"
   ]
  },
  {
   "cell_type": "code",
   "execution_count": 37,
   "id": "8497cae2",
   "metadata": {},
   "outputs": [
    {
     "data": {
      "text/plain": [
       "Text(0, 0.5, 'Frequency')"
      ]
     },
     "execution_count": 37,
     "metadata": {},
     "output_type": "execute_result"
    },
    {
     "data": {
      "image/png": "[encoded data removed]",
      "text/plain": [
       "<Figure size 640x480 with 1 Axes>"
      ]
     },
     "metadata": {},
     "output_type": "display_data"
    }
   ],
   "source": [
    "plt.boxplot(df['Salary'])\n",
    "plt.title('salary Distribution')\n",
    "plt.xlabel('salary')\n",
    "plt.ylabel('Frequency')\n"
   ]
  },
  {
   "cell_type": "code",
   "execution_count": 38,
   "id": "2af73e38",
   "metadata": {},
   "outputs": [
    {
     "data": {
      "text/html": [
       "<div>\n",
       "<style scoped>\n",
       "    .dataframe tbody tr th:only-of-type {\n",
       "        vertical-align: middle;\n",
       "    }\n",
       "\n",
       "    .dataframe tbody tr th {\n",
       "        vertical-align: top;\n",
       "    }\n",
       "\n",
       "    .dataframe thead th {\n",
       "        text-align: right;\n",
       "    }\n",
       "</style>\n",
       "<table border=\"1\" class=\"dataframe\">\n",
       "  <thead>\n",
       "    <tr style=\"text-align: right;\">\n",
       "      <th></th>\n",
       "      <th>JobCity</th>\n",
       "      <th>Salary</th>\n",
       "    </tr>\n",
       "  </thead>\n",
       "  <tbody>\n",
       "    <tr>\n",
       "      <th>3</th>\n",
       "      <td>gurgaon</td>\n",
       "      <td>1100000.0</td>\n",
       "    </tr>\n",
       "    <tr>\n",
       "      <th>92</th>\n",
       "      <td>hyderabad</td>\n",
       "      <td>1500000.0</td>\n",
       "    </tr>\n",
       "    <tr>\n",
       "      <th>123</th>\n",
       "      <td>maharajganj</td>\n",
       "      <td>1200000.0</td>\n",
       "    </tr>\n",
       "    <tr>\n",
       "      <th>166</th>\n",
       "      <td>mumbai</td>\n",
       "      <td>1860000.0</td>\n",
       "    </tr>\n",
       "    <tr>\n",
       "      <th>383</th>\n",
       "      <td>bangalore</td>\n",
       "      <td>1110000.0</td>\n",
       "    </tr>\n",
       "    <tr>\n",
       "      <th>394</th>\n",
       "      <td>bangalore</td>\n",
       "      <td>1200000.0</td>\n",
       "    </tr>\n",
       "    <tr>\n",
       "      <th>500</th>\n",
       "      <td>-1</td>\n",
       "      <td>2600000.0</td>\n",
       "    </tr>\n",
       "    <tr>\n",
       "      <th>725</th>\n",
       "      <td>bangalore</td>\n",
       "      <td>1025000.0</td>\n",
       "    </tr>\n",
       "    <tr>\n",
       "      <th>771</th>\n",
       "      <td>angul</td>\n",
       "      <td>1300000.0</td>\n",
       "    </tr>\n",
       "    <tr>\n",
       "      <th>779</th>\n",
       "      <td>pune</td>\n",
       "      <td>3500000.0</td>\n",
       "    </tr>\n",
       "    <tr>\n",
       "      <th>927</th>\n",
       "      <td>dubai</td>\n",
       "      <td>1300000.0</td>\n",
       "    </tr>\n",
       "    <tr>\n",
       "      <th>943</th>\n",
       "      <td>mumbai</td>\n",
       "      <td>1050000.0</td>\n",
       "    </tr>\n",
       "    <tr>\n",
       "      <th>961</th>\n",
       "      <td>bangalore</td>\n",
       "      <td>2000000.0</td>\n",
       "    </tr>\n",
       "    <tr>\n",
       "      <th>1237</th>\n",
       "      <td>new delhi</td>\n",
       "      <td>4000000.0</td>\n",
       "    </tr>\n",
       "    <tr>\n",
       "      <th>1239</th>\n",
       "      <td>bangalore</td>\n",
       "      <td>2020000.0</td>\n",
       "    </tr>\n",
       "    <tr>\n",
       "      <th>1517</th>\n",
       "      <td>noida</td>\n",
       "      <td>2050000.0</td>\n",
       "    </tr>\n",
       "    <tr>\n",
       "      <th>1746</th>\n",
       "      <td>dubai</td>\n",
       "      <td>1320000.0</td>\n",
       "    </tr>\n",
       "    <tr>\n",
       "      <th>1759</th>\n",
       "      <td>-1</td>\n",
       "      <td>3000000.0</td>\n",
       "    </tr>\n",
       "    <tr>\n",
       "      <th>1982</th>\n",
       "      <td>-1</td>\n",
       "      <td>2500000.0</td>\n",
       "    </tr>\n",
       "    <tr>\n",
       "      <th>2030</th>\n",
       "      <td>kalmar, sweden</td>\n",
       "      <td>2300000.0</td>\n",
       "    </tr>\n",
       "    <tr>\n",
       "      <th>2109</th>\n",
       "      <td>gurgaon</td>\n",
       "      <td>1300000.0</td>\n",
       "    </tr>\n",
       "    <tr>\n",
       "      <th>2152</th>\n",
       "      <td>bangalore</td>\n",
       "      <td>1200000.0</td>\n",
       "    </tr>\n",
       "    <tr>\n",
       "      <th>2182</th>\n",
       "      <td>gurgaon</td>\n",
       "      <td>4000000.0</td>\n",
       "    </tr>\n",
       "    <tr>\n",
       "      <th>2216</th>\n",
       "      <td>bangalore</td>\n",
       "      <td>1800000.0</td>\n",
       "    </tr>\n",
       "    <tr>\n",
       "      <th>2230</th>\n",
       "      <td>mumbai</td>\n",
       "      <td>1200000.0</td>\n",
       "    </tr>\n",
       "    <tr>\n",
       "      <th>2493</th>\n",
       "      <td>johannesburg</td>\n",
       "      <td>1745000.0</td>\n",
       "    </tr>\n",
       "    <tr>\n",
       "      <th>2541</th>\n",
       "      <td>london</td>\n",
       "      <td>2000000.0</td>\n",
       "    </tr>\n",
       "    <tr>\n",
       "      <th>2565</th>\n",
       "      <td>panchkula</td>\n",
       "      <td>1800000.0</td>\n",
       "    </tr>\n",
       "    <tr>\n",
       "      <th>2764</th>\n",
       "      <td>hyderabad</td>\n",
       "      <td>1200000.0</td>\n",
       "    </tr>\n",
       "    <tr>\n",
       "      <th>2880</th>\n",
       "      <td>bangalore</td>\n",
       "      <td>1030000.0</td>\n",
       "    </tr>\n",
       "    <tr>\n",
       "      <th>3126</th>\n",
       "      <td>bhopal</td>\n",
       "      <td>1210000.0</td>\n",
       "    </tr>\n",
       "    <tr>\n",
       "      <th>3247</th>\n",
       "      <td>bangalore</td>\n",
       "      <td>1500000.0</td>\n",
       "    </tr>\n",
       "    <tr>\n",
       "      <th>3276</th>\n",
       "      <td>greater noida</td>\n",
       "      <td>1100000.0</td>\n",
       "    </tr>\n",
       "    <tr>\n",
       "      <th>3484</th>\n",
       "      <td>noida</td>\n",
       "      <td>2000000.0</td>\n",
       "    </tr>\n",
       "    <tr>\n",
       "      <th>3490</th>\n",
       "      <td>pune</td>\n",
       "      <td>2000000.0</td>\n",
       "    </tr>\n",
       "    <tr>\n",
       "      <th>3710</th>\n",
       "      <td>bangalore</td>\n",
       "      <td>1100000.0</td>\n",
       "    </tr>\n",
       "  </tbody>\n",
       "</table>\n",
       "</div>"
      ],
      "text/plain": [
       "             JobCity     Salary\n",
       "3            gurgaon  1100000.0\n",
       "92         hyderabad  1500000.0\n",
       "123      maharajganj  1200000.0\n",
       "166           mumbai  1860000.0\n",
       "383       bangalore   1110000.0\n",
       "394        bangalore  1200000.0\n",
       "500               -1  2600000.0\n",
       "725        bangalore  1025000.0\n",
       "771            angul  1300000.0\n",
       "779             pune  3500000.0\n",
       "927            dubai  1300000.0\n",
       "943           mumbai  1050000.0\n",
       "961        bangalore  2000000.0\n",
       "1237       new delhi  4000000.0\n",
       "1239       bangalore  2020000.0\n",
       "1517           noida  2050000.0\n",
       "1746           dubai  1320000.0\n",
       "1759              -1  3000000.0\n",
       "1982              -1  2500000.0\n",
       "2030  kalmar, sweden  2300000.0\n",
       "2109         gurgaon  1300000.0\n",
       "2152       bangalore  1200000.0\n",
       "2182         gurgaon  4000000.0\n",
       "2216       bangalore  1800000.0\n",
       "2230          mumbai  1200000.0\n",
       "2493    johannesburg  1745000.0\n",
       "2541          london  2000000.0\n",
       "2565       panchkula  1800000.0\n",
       "2764       hyderabad  1200000.0\n",
       "2880       bangalore  1030000.0\n",
       "3126          bhopal  1210000.0\n",
       "3247       bangalore  1500000.0\n",
       "3276   greater noida  1100000.0\n",
       "3484           noida  2000000.0\n",
       "3490            pune  2000000.0\n",
       "3710       bangalore  1100000.0"
      ]
     },
     "execution_count": 38,
     "metadata": {},
     "output_type": "execute_result"
    }
   ],
   "source": [
    "df.loc[(df.Salary>1000000),['JobCity','Salary']]"
   ]
  },
  {
   "cell_type": "raw",
   "id": "7fd71199",
   "metadata": {},
   "source": [
    "Pepole getting salary greater than 10Lpa are mostly from banglore"
   ]
  },
  {
   "cell_type": "code",
   "execution_count": 39,
   "id": "36bac841",
   "metadata": {},
   "outputs": [
    {
     "data": {
      "text/plain": [
       "10board                                        \n",
       "cbse                                               190\n",
       "state board                                         38\n",
       "icse                                                26\n",
       "0                                                   18\n",
       "up board                                             8\n",
       "rbse                                                 3\n",
       "hbse                                                 2\n",
       "pseb                                                 2\n",
       "mp                                                   1\n",
       "ssc                                                  1\n",
       "maharashtra state board for ssc                      1\n",
       "maharashtra state board mumbai divisional board      1\n",
       "board of school education haryana                    1\n",
       "maharashtra state board                              1\n",
       "gseb                                                 1\n",
       "central board of secondary education                 1\n",
       "bseb,patna                                           1\n",
       "uttar pradesh                                        1\n",
       "Name: count, dtype: int64"
      ]
     },
     "execution_count": 39,
     "metadata": {},
     "output_type": "execute_result"
    }
   ],
   "source": [
    "df.loc[(df.CollegeTier==1),['10board']].value_counts()"
   ]
  },
  {
   "cell_type": "markdown",
   "id": "d00b51db",
   "metadata": {},
   "source": [
    "## Bi- Variate Analysis"
   ]
  },
  {
   "cell_type": "code",
   "execution_count": 40,
   "id": "4def112b",
   "metadata": {},
   "outputs": [
    {
     "data": {
      "text/plain": [
       "0.17737277344849336"
      ]
     },
     "execution_count": 40,
     "metadata": {},
     "output_type": "execute_result"
    }
   ],
   "source": [
    "correlation = df['10percentage'].corr(df['Salary'])\n",
    "correlation"
   ]
  },
  {
   "cell_type": "code",
   "execution_count": 41,
   "id": "d77f7fe4",
   "metadata": {},
   "outputs": [
    {
     "data": {
      "text/html": [
       "<div>\n",
       "<style scoped>\n",
       "    .dataframe tbody tr th:only-of-type {\n",
       "        vertical-align: middle;\n",
       "    }\n",
       "\n",
       "    .dataframe tbody tr th {\n",
       "        vertical-align: top;\n",
       "    }\n",
       "\n",
       "    .dataframe thead th {\n",
       "        text-align: right;\n",
       "    }\n",
       "</style>\n",
       "<table border=\"1\" class=\"dataframe\">\n",
       "  <thead>\n",
       "    <tr style=\"text-align: right;\">\n",
       "      <th>Gender</th>\n",
       "      <th>f</th>\n",
       "      <th>m</th>\n",
       "    </tr>\n",
       "    <tr>\n",
       "      <th>JobCity</th>\n",
       "      <th></th>\n",
       "      <th></th>\n",
       "    </tr>\n",
       "  </thead>\n",
       "  <tbody>\n",
       "    <tr>\n",
       "      <th>ariyalur</th>\n",
       "      <td>0</td>\n",
       "      <td>1</td>\n",
       "    </tr>\n",
       "    <tr>\n",
       "      <th>bangalore</th>\n",
       "      <td>1</td>\n",
       "      <td>0</td>\n",
       "    </tr>\n",
       "    <tr>\n",
       "      <th>chennai</th>\n",
       "      <td>0</td>\n",
       "      <td>1</td>\n",
       "    </tr>\n",
       "    <tr>\n",
       "      <th>delhi</th>\n",
       "      <td>0</td>\n",
       "      <td>1</td>\n",
       "    </tr>\n",
       "    <tr>\n",
       "      <th>mumbai</th>\n",
       "      <td>0</td>\n",
       "      <td>3</td>\n",
       "    </tr>\n",
       "    <tr>\n",
       "      <th>...</th>\n",
       "      <td>...</td>\n",
       "      <td>...</td>\n",
       "    </tr>\n",
       "    <tr>\n",
       "      <th>vijayawada</th>\n",
       "      <td>1</td>\n",
       "      <td>1</td>\n",
       "    </tr>\n",
       "    <tr>\n",
       "      <th>visakhapatnam</th>\n",
       "      <td>2</td>\n",
       "      <td>5</td>\n",
       "    </tr>\n",
       "    <tr>\n",
       "      <th>vizag</th>\n",
       "      <td>0</td>\n",
       "      <td>3</td>\n",
       "    </tr>\n",
       "    <tr>\n",
       "      <th>vsakhapttnam</th>\n",
       "      <td>0</td>\n",
       "      <td>1</td>\n",
       "    </tr>\n",
       "    <tr>\n",
       "      <th>yamuna nagar</th>\n",
       "      <td>0</td>\n",
       "      <td>1</td>\n",
       "    </tr>\n",
       "  </tbody>\n",
       "</table>\n",
       "<p>262 rows × 2 columns</p>\n",
       "</div>"
      ],
      "text/plain": [
       "Gender         f  m\n",
       "JobCity            \n",
       " ariyalur      0  1\n",
       " bangalore     1  0\n",
       " chennai       0  1\n",
       " delhi         0  1\n",
       " mumbai        0  3\n",
       "...           .. ..\n",
       "vijayawada     1  1\n",
       "visakhapatnam  2  5\n",
       "vizag          0  3\n",
       "vsakhapttnam   0  1\n",
       "yamuna nagar   0  1\n",
       "\n",
       "[262 rows x 2 columns]"
      ]
     },
     "execution_count": 41,
     "metadata": {},
     "output_type": "execute_result"
    }
   ],
   "source": [
    "crosstab = pd.crosstab(df['JobCity'], df['Gender'])\n",
    "crosstab"
   ]
  },
  {
   "cell_type": "code",
   "execution_count": 42,
   "id": "267c0401",
   "metadata": {},
   "outputs": [
    {
     "data": {
      "text/plain": [
       "0       79.471175\n",
       "1       74.345200\n",
       "2       81.818783\n",
       "3       76.564810\n",
       "4       82.000000\n",
       "          ...    \n",
       "3993    57.845000\n",
       "3994    81.225154\n",
       "3995    79.471175\n",
       "3996    78.720000\n",
       "3997    81.818783\n",
       "Name: Mean_Salary, Length: 3998, dtype: float64"
      ]
     },
     "execution_count": 42,
     "metadata": {},
     "output_type": "execute_result"
    }
   ],
   "source": [
    "# Group by 'Gender and calculate the mean salary for each group, then broadcast the result\n",
    "df['Mean_Salary'] = df.groupby('JobCity')['10percentage'].transform('mean')\n",
    "df['Mean_Salary'] "
   ]
  },
  {
   "cell_type": "code",
   "execution_count": 43,
   "id": "a4a9007f",
   "metadata": {},
   "outputs": [
    {
     "data": {
      "text/html": [
       "<div>\n",
       "<style scoped>\n",
       "    .dataframe tbody tr th:only-of-type {\n",
       "        vertical-align: middle;\n",
       "    }\n",
       "\n",
       "    .dataframe tbody tr th {\n",
       "        vertical-align: top;\n",
       "    }\n",
       "\n",
       "    .dataframe thead th {\n",
       "        text-align: right;\n",
       "    }\n",
       "</style>\n",
       "<table border=\"1\" class=\"dataframe\">\n",
       "  <thead>\n",
       "    <tr style=\"text-align: right;\">\n",
       "      <th></th>\n",
       "      <th>ID</th>\n",
       "      <th>Salary</th>\n",
       "      <th>DOJ</th>\n",
       "      <th>DOL</th>\n",
       "      <th>Designation</th>\n",
       "      <th>JobCity</th>\n",
       "      <th>Gender</th>\n",
       "      <th>DOB</th>\n",
       "      <th>10percentage</th>\n",
       "      <th>10board</th>\n",
       "      <th>...</th>\n",
       "      <th>MechanicalEngg</th>\n",
       "      <th>ElectricalEngg</th>\n",
       "      <th>TelecomEngg</th>\n",
       "      <th>CivilEngg</th>\n",
       "      <th>conscientiousness</th>\n",
       "      <th>agreeableness</th>\n",
       "      <th>extraversion</th>\n",
       "      <th>nueroticism</th>\n",
       "      <th>openess_to_experience</th>\n",
       "      <th>Mean_Salary</th>\n",
       "    </tr>\n",
       "  </thead>\n",
       "  <tbody>\n",
       "    <tr>\n",
       "      <th>3996</th>\n",
       "      <td>947111</td>\n",
       "      <td>200000.0</td>\n",
       "      <td>2014-07-01</td>\n",
       "      <td>1/1/15 0:00</td>\n",
       "      <td>software developer</td>\n",
       "      <td>asifabadbanglore</td>\n",
       "      <td>f</td>\n",
       "      <td>1992-03-20</td>\n",
       "      <td>78.72</td>\n",
       "      <td>state board</td>\n",
       "      <td>...</td>\n",
       "      <td>0</td>\n",
       "      <td>0</td>\n",
       "      <td>0</td>\n",
       "      <td>0</td>\n",
       "      <td>-0.1590</td>\n",
       "      <td>0.0459</td>\n",
       "      <td>-0.4511</td>\n",
       "      <td>-0.36120</td>\n",
       "      <td>-0.0943</td>\n",
       "      <td>78.720000</td>\n",
       "    </tr>\n",
       "    <tr>\n",
       "      <th>3997</th>\n",
       "      <td>324966</td>\n",
       "      <td>400000.0</td>\n",
       "      <td>2013-02-01</td>\n",
       "      <td>present</td>\n",
       "      <td>senior systems engineer</td>\n",
       "      <td>chennai</td>\n",
       "      <td>f</td>\n",
       "      <td>1991-02-26</td>\n",
       "      <td>70.60</td>\n",
       "      <td>cbse</td>\n",
       "      <td>...</td>\n",
       "      <td>0</td>\n",
       "      <td>0</td>\n",
       "      <td>0</td>\n",
       "      <td>0</td>\n",
       "      <td>-1.1128</td>\n",
       "      <td>-0.2793</td>\n",
       "      <td>-0.6343</td>\n",
       "      <td>1.32553</td>\n",
       "      <td>-0.6035</td>\n",
       "      <td>81.818783</td>\n",
       "    </tr>\n",
       "  </tbody>\n",
       "</table>\n",
       "<p>2 rows × 39 columns</p>\n",
       "</div>"
      ],
      "text/plain": [
       "          ID    Salary         DOJ          DOL              Designation  \\\n",
       "3996  947111  200000.0  2014-07-01  1/1/15 0:00       software developer   \n",
       "3997  324966  400000.0  2013-02-01      present  senior systems engineer   \n",
       "\n",
       "               JobCity Gender         DOB  10percentage      10board  ...  \\\n",
       "3996  asifabadbanglore      f  1992-03-20         78.72  state board  ...   \n",
       "3997           chennai      f  1991-02-26         70.60         cbse  ...   \n",
       "\n",
       "      MechanicalEngg  ElectricalEngg TelecomEngg  CivilEngg  \\\n",
       "3996               0               0           0          0   \n",
       "3997               0               0           0          0   \n",
       "\n",
       "      conscientiousness agreeableness extraversion  nueroticism  \\\n",
       "3996            -0.1590        0.0459      -0.4511     -0.36120   \n",
       "3997            -1.1128       -0.2793      -0.6343      1.32553   \n",
       "\n",
       "      openess_to_experience  Mean_Salary  \n",
       "3996                -0.0943    78.720000  \n",
       "3997                -0.6035    81.818783  \n",
       "\n",
       "[2 rows x 39 columns]"
      ]
     },
     "execution_count": 43,
     "metadata": {},
     "output_type": "execute_result"
    }
   ],
   "source": [
    "df.tail(2)"
   ]
  },
  {
   "cell_type": "code",
   "execution_count": 44,
   "id": "9ff0f142",
   "metadata": {
    "scrolled": false
   },
   "outputs": [
    {
     "data": {
      "image/png": "[encoded data removed]",
      "text/plain": [
       "<Figure size 800x600 with 2 Axes>"
      ]
     },
     "metadata": {},
     "output_type": "display_data"
    }
   ],
   "source": [
    "numerical_columns = ['ID', 'Salary', '10percentage','MechanicalEngg','ElectricalEngg','TelecomEngg','CivilEngg','conscientiousness','agreeableness','extraversion','nueroticism','openess_to_experience']  # Update this with your actual numerical columns\n",
    "\n",
    "# Create the correlation matrix\n",
    "corr_matrix = df[numerical_columns].corr()\n",
    "\n",
    "# Plot the heatmap\n",
    "plt.figure(figsize=(8,6))\n",
    "sns.heatmap(corr_matrix, annot=True, cmap='coolwarm', linewidths=0.5)\n",
    "plt.title('Correlation Heatmap of Selected Features')\n",
    "plt.show()"
   ]
  },
  {
   "cell_type": "code",
   "execution_count": 58,
   "id": "ad0d03e1",
   "metadata": {},
   "outputs": [
    {
     "data": {
      "text/plain": [
       "GraduationYear\n",
       "0       325000.000000\n",
       "2007    120000.000000\n",
       "2009    365625.000000\n",
       "2010    441318.493151\n",
       "2011    369684.418146\n",
       "2012    315478.158205\n",
       "2013    277810.330229\n",
       "2014    267924.710425\n",
       "2015    299574.468085\n",
       "2016    295714.285714\n",
       "2017    195625.000000\n",
       "Name: Salary, dtype: float64"
      ]
     },
     "execution_count": 58,
     "metadata": {},
     "output_type": "execute_result"
    }
   ],
   "source": [
    "y_df=df.groupby('GraduationYear')\n",
    "y_df.Salary.mean()"
   ]
  },
  {
   "cell_type": "code",
   "execution_count": 60,
   "id": "e767bad9",
   "metadata": {},
   "outputs": [
    {
     "data": {
      "text/plain": [
       "GraduationYear\n",
       "2013    1181\n",
       "2014    1036\n",
       "2012     847\n",
       "2011     507\n",
       "2010     292\n",
       "2015      94\n",
       "2009      24\n",
       "2017       8\n",
       "2016       7\n",
       "0          1\n",
       "2007       1\n",
       "Name: count, dtype: int64"
      ]
     },
     "execution_count": 60,
     "metadata": {},
     "output_type": "execute_result"
    }
   ],
   "source": [
    "df.GraduationYear.value_counts()"
   ]
  },
  {
   "cell_type": "code",
   "execution_count": 62,
   "id": "62f4dbdc",
   "metadata": {},
   "outputs": [
    {
     "data": {
      "text/plain": [
       "GraduationYear\n",
       "2011              3792\n",
       "2014                78\n",
       "2012                52\n",
       "2013                42\n",
       "2010                34\n",
       "Name: count, dtype: int64"
      ]
     },
     "execution_count": 62,
     "metadata": {},
     "output_type": "execute_result"
    }
   ],
   "source": [
    "df.loc[(df.MechanicalEngg),['GraduationYear']].value_counts()"
   ]
  },
  {
   "cell_type": "code",
   "execution_count": 63,
   "id": "c57e63f6",
   "metadata": {},
   "outputs": [
    {
     "data": {
      "text/plain": [
       "GraduationYear\n",
       "2011              3643\n",
       "2014               141\n",
       "2012               128\n",
       "2013                85\n",
       "2010                 1\n",
       "Name: count, dtype: int64"
      ]
     },
     "execution_count": 63,
     "metadata": {},
     "output_type": "execute_result"
    }
   ],
   "source": [
    "df.loc[(df.TelecomEngg),['GraduationYear']].value_counts()"
   ]
  },
  {
   "cell_type": "code",
   "execution_count": 64,
   "id": "8031c3dc",
   "metadata": {},
   "outputs": [
    {
     "data": {
      "text/plain": [
       "GraduationYear\n",
       "2011              3958\n",
       "2012                25\n",
       "2014                 7\n",
       "2013                 6\n",
       "2009                 1\n",
       "2010                 1\n",
       "Name: count, dtype: int64"
      ]
     },
     "execution_count": 64,
     "metadata": {},
     "output_type": "execute_result"
    }
   ],
   "source": [
    "df.loc[(df.CivilEngg),['GraduationYear']].value_counts()"
   ]
  },
  {
   "cell_type": "code",
   "execution_count": 65,
   "id": "3b565a5c",
   "metadata": {},
   "outputs": [
    {
     "data": {
      "text/plain": [
       "Gender\n",
       "m    3041\n",
       "f     957\n",
       "Name: count, dtype: int64"
      ]
     },
     "execution_count": 65,
     "metadata": {},
     "output_type": "execute_result"
    }
   ],
   "source": [
    "df.Gender.value_counts()"
   ]
  },
  {
   "cell_type": "code",
   "execution_count": 70,
   "id": "1aaa94aa",
   "metadata": {},
   "outputs": [
    {
     "data": {
      "image/png": "[encoded data removed]",
      "text/plain": [
       "<Figure size 1200x600 with 1 Axes>"
      ]
     },
     "metadata": {},
     "output_type": "display_data"
    }
   ],
   "source": [
    "plt.figure(figsize=(12,6))\n",
    "sns.boxplot(data = df ,x=\"Degree\",y='Salary')\n",
    "plt.title(\"Box plot salary by degree\")\n",
    "plt.xticks(rotation=45)\n",
    "\n",
    "plt.show()"
   ]
  },
  {
   "cell_type": "code",
   "execution_count": 71,
   "id": "ca49c66a",
   "metadata": {},
   "outputs": [
    {
     "data": {
      "text/plain": [
       "Index(['ID', 'Salary', 'DOJ', 'DOL', 'Designation', 'JobCity', 'Gender', 'DOB',\n",
       "       '10percentage', '10board', '12graduation', '12percentage', '12board',\n",
       "       'CollegeID', 'CollegeTier', 'Degree', 'Specialization', 'collegeGPA',\n",
       "       'CollegeCityID', 'CollegeCityTier', 'CollegeState', 'GraduationYear',\n",
       "       'English', 'Logical', 'Quant', 'Domain', 'ComputerProgramming',\n",
       "       'ElectronicsAndSemicon', 'ComputerScience', 'MechanicalEngg',\n",
       "       'ElectricalEngg', 'TelecomEngg', 'CivilEngg', 'conscientiousness',\n",
       "       'agreeableness', 'extraversion', 'nueroticism', 'openess_to_experience',\n",
       "       'Mean_Salary'],\n",
       "      dtype='object')"
      ]
     },
     "execution_count": 71,
     "metadata": {},
     "output_type": "execute_result"
    }
   ],
   "source": [
    "df.columns"
   ]
  },
  {
   "cell_type": "markdown",
   "id": "6a7fc5e3",
   "metadata": {},
   "source": [
    "## Research Questions\n"
   ]
  },
  {
   "cell_type": "markdown",
   "id": "8e79fcf8",
   "metadata": {},
   "source": [
    "Times of India article dated Jan 18, 2019 states that \n",
    "“After doing your Computer Science Engineering if you take up jobs as \n",
    "a Programming Analyst, Software Engineer, Hardware Engineer and \n",
    "Associate Engineer you can earn up to 2.5-3 lakhs as a fresh graduate.” \n",
    "Test this claim with the data given to you.\n"
   ]
  },
  {
   "cell_type": "code",
   "execution_count": 75,
   "id": "43c99abc",
   "metadata": {},
   "outputs": [],
   "source": [
    "# Filter data for fresh graduates with the relevant job titles\n",
    "relevant_jobs = ['Programming Analyst', 'Software Engineer', \n",
    "                 'Hardware Engineer', 'Associate Engineer']\n",
    "filtered_data = df[(df['Specialization'] == 'Computer Science Engineering') & \n",
    "                     (df['Designation'].isin(relevant_jobs))]\n"
   ]
  },
  {
   "cell_type": "code",
   "execution_count": 77,
   "id": "06e279ee",
   "metadata": {},
   "outputs": [],
   "source": [
    "# Calculate salary statistics for the filtered data\n",
    "average_salary = filtered_data['Salary'].mean()\n",
    "median_salary = filtered_data['Salary'].median()\n",
    "min_salary = filtered_data['Salary'].min()\n",
    "max_salary = filtered_data['Salary'].max()\n"
   ]
  },
  {
   "cell_type": "code",
   "execution_count": 84,
   "id": "3600feba",
   "metadata": {},
   "outputs": [],
   "source": [
    "#Check the percentage of graduates earning between 2.5 to 3 lakhs\n",
    "# Function to convert lakhs to integers\n",
    "max_value= 2.5 * 100000\n",
    "min_value = 3*100000\n",
    "def convert_to_integer(amount_in_lakhs):\n",
    "    return float(amount_in_lakhs) * 100000\n",
    "\n",
    "# Applying the function to the dataset\n",
    "salary_range = filtered_data[(filtered_data['Salary'] >= max_value) & (filtered_data['Salary'] <= min_value)]\n",
    "if len(df) > 0:  # Check if df is not empty\n",
    "    percentage_in_range = (len(salary_range) / len(df)) * 100\n",
    "else:\n",
    "    percentage_in_range = 0 "
   ]
  },
  {
   "cell_type": "code",
   "execution_count": 85,
   "id": "22cc0f08",
   "metadata": {},
   "outputs": [
    {
     "name": "stdout",
     "output_type": "stream",
     "text": [
      "Average Salary: nan lakhs\n",
      "Median Salary: nan lakhs\n",
      "Salary Range: nan - nan lakhs\n",
      "Percentage of graduates earning between 2.5 and 3 lakhs: 0.00%\n"
     ]
    }
   ],
   "source": [
    "print(f\"Average Salary: {average_salary} lakhs\")\n",
    "print(f\"Median Salary: {median_salary} lakhs\")\n",
    "print(f\"Salary Range: {min_salary} - {max_salary} lakhs\")\n",
    "print(f\"Percentage of graduates earning between 2.5 and 3 lakhs: {percentage_in_range:.2f}%\")"
   ]
  },
  {
   "cell_type": "code",
   "execution_count": 91,
   "id": "04167b7f",
   "metadata": {},
   "outputs": [
    {
     "name": "stdout",
     "output_type": "stream",
     "text": [
      "Chi-square statistic: 104.46891913608455\n",
      "P-value: 1.2453868176976918e-06\n",
      "There is a significant relationship between gender and specialization (reject the null hypothesis).\n"
     ]
    }
   ],
   "source": [
    "from scipy.stats import chi2_contingency\n",
    "# Create a contingency table between gender and specialization\n",
    "contingency_table = pd.crosstab(df['Gender'],df['Specialization'])\n",
    "\n",
    "\n",
    "# Perform the Chi-square test of independence\n",
    "chi2, p, dof, expected = chi2_contingency(contingency_table)\n",
    "\n",
    "# Output the Chi-square statistic and p-value\n",
    "print(f\"Chi-square statistic: {chi2}\")\n",
    "print(f\"P-value: {p}\")\n",
    "\n",
    "# Interpret the result\n",
    "alpha = 0.05\n",
    "if p < alpha:\n",
    "    print(\"There is a significant relationship between gender and specialization (reject the null hypothesis).\")\n",
    "else:\n",
    "    print(\"There is no significant relationship between gender and specialization (fail to reject the null hypothesis).\")"
   ]
  },
  {
   "cell_type": "markdown",
   "id": "0c89e2a1",
   "metadata": {},
   "source": [
    "# Conclusion"
   ]
  },
  {
   "cell_type": "markdown",
   "id": "3ea667f3",
   "metadata": {},
   "source": [
    "### Yes their is a relationship between Gender and specialization are significantly related, leading to the rejection of the null hypothesis."
   ]
  },
  {
   "cell_type": "markdown",
   "id": "6d0ceda3",
   "metadata": {},
   "source": [
    "#### "
   ]
  },
  {
   "cell_type": "code",
   "execution_count": null,
   "id": "56ed58eb",
   "metadata": {},
   "outputs": [],
   "source": []
  }
 ],
 "metadata": {
  "kernelspec": {
   "display_name": "Python 3 (ipykernel)",
   "language": "python",
   "name": "python3"
  },
  "language_info": {
   "codemirror_mode": {
    "name": "ipython",
    "version": 3
   },
   "file_extension": ".py",
   "mimetype": "text/x-python",
   "name": "python",
   "nbconvert_exporter": "python",
   "pygments_lexer": "ipython3",
   "version": "3.9.13"
  }
 },
 "nbformat": 4,
 "nbformat_minor": 5
}
